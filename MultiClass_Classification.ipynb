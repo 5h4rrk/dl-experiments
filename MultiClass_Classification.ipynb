{
 "cells": [
  {
   "cell_type": "markdown",
   "id": "1ef2acb1",
   "metadata": {},
   "source": [
    "### Multiclass Classification\n"
   ]
  },
  {
   "cell_type": "code",
   "execution_count": 11,
   "id": "4fb3cc05",
   "metadata": {},
   "outputs": [],
   "source": [
    "import tensorflow as tf\n",
    "from tensorflow.keras.datasets import fashion_mnist\n",
    "import numpy as np\n",
    "import matplotlib.pyplot as plt\n",
    "import random"
   ]
  },
  {
   "cell_type": "code",
   "execution_count": 4,
   "id": "121bf6f3",
   "metadata": {},
   "outputs": [],
   "source": [
    "(train_data, train_labels),(test_data, test_labels) = fashion_mnist.load_data()"
   ]
  },
  {
   "cell_type": "code",
   "execution_count": 6,
   "id": "434656de",
   "metadata": {},
   "outputs": [
    {
     "data": {
      "text/plain": [
       "array([9, 0, 0, ..., 3, 0, 5], dtype=uint8)"
      ]
     },
     "execution_count": 6,
     "metadata": {},
     "output_type": "execute_result"
    }
   ],
   "source": [
    "train_labels"
   ]
  },
  {
   "cell_type": "code",
   "execution_count": 8,
   "id": "cadd65bb",
   "metadata": {},
   "outputs": [],
   "source": [
    "labels_name = [\"Tshirts/top\", \"Trouser\", \"Pullover\", \"Dress\", \"Coat\", \"Sandal\", \"Shirt\", \"Sneaker\", \"Bag\", \"Ankle Boot\"]"
   ]
  },
  {
   "cell_type": "markdown",
   "id": "b9209289",
   "metadata": {},
   "source": [
    "## Random Data Visualization"
   ]
  },
  {
   "cell_type": "code",
   "execution_count": 45,
   "id": "a91aefd4",
   "metadata": {},
   "outputs": [
    {
     "data": {
      "text/plain": [
       "Text(0.5, 1.0, 'Tshirts/top')"
      ]
     },
     "execution_count": 45,
     "metadata": {},
     "output_type": "execute_result"
    },
    {
     "data": {
      "image/png": "[encoded data removed]",
      "text/plain": [
       "<Figure size 800x800 with 4 Axes>"
      ]
     },
     "metadata": {},
     "output_type": "display_data"
    }
   ],
   "source": [
    "choice = []\n",
    "for i in range(4):\n",
    "    choice.append(random.randint(0,len(train_data)))\n",
    "\n",
    "plt.figure(figsize=(8,8))\n",
    "plt.subplot(1,4,1)\n",
    "plt.imshow(train_data[choice[0]])\n",
    "plt.title(labels_name[train_labels[choice[0]]])\n",
    "plt.subplot(1,4,2)\n",
    "plt.imshow(train_data[choice[1]])\n",
    "plt.title(labels_name[train_labels[choice[1]]])\n",
    "plt.subplot(1,4,3)\n",
    "plt.imshow(train_data[choice[2]])\n",
    "plt.title(labels_name[train_labels[choice[2]]])\n",
    "plt.subplot(1,4,4)\n",
    "plt.imshow(train_data[choice[3]])\n",
    "plt.title(labels_name[train_labels[choice[3]]])\n"
   ]
  },
  {
   "cell_type": "code",
   "execution_count": 14,
   "id": "c5b964e4",
   "metadata": {},
   "outputs": [
    {
     "data": {
      "text/plain": [
       "(60000, 28, 28)"
      ]
     },
     "execution_count": 14,
     "metadata": {},
     "output_type": "execute_result"
    }
   ],
   "source": [
    "train_data.shape"
   ]
  },
  {
   "cell_type": "code",
   "execution_count": null,
   "id": "b767fb5b",
   "metadata": {},
   "outputs": [],
   "source": []
  },
  {
   "cell_type": "code",
   "execution_count": null,
   "id": "3b28624b",
   "metadata": {},
   "outputs": [],
   "source": []
  }
 ],
 "metadata": {
  "kernelspec": {
   "display_name": "Python 3 (ipykernel)",
   "language": "python",
   "name": "python3"
  },
  "language_info": {
   "codemirror_mode": {
    "name": "ipython",
    "version": 3
   },
   "file_extension": ".py",
   "mimetype": "text/x-python",
   "name": "python",
   "nbconvert_exporter": "python",
   "pygments_lexer": "ipython3",
   "version": "3.11.0"
  }
 },
 "nbformat": 4,
 "nbformat_minor": 5
}
