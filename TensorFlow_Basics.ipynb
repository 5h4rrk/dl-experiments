{
 "cells": [
  {
   "cell_type": "code",
   "execution_count": 1,
   "id": "ad00a0a1",
   "metadata": {},
   "outputs": [],
   "source": [
    "import tensorflow as tf\n",
    "import numpy as np"
   ]
  },
  {
   "cell_type": "code",
   "execution_count": 2,
   "id": "8fd2db80",
   "metadata": {},
   "outputs": [],
   "source": [
    "#Tenosrflow Constant ; The Values can't be changed here\n",
    "tensor_1 = tf.constant(7,shape=(4,5))\n",
    "tensor_2 = tf.constant((1),dtype=np.uint16,shape=(2,4))"
   ]
  },
  {
   "cell_type": "code",
   "execution_count": 3,
   "id": "0f12eccc",
   "metadata": {},
   "outputs": [
    {
     "data": {
      "text/plain": [
       "(<tf.Tensor: shape=(4, 5), dtype=int32, numpy=\n",
       " array([[7, 7, 7, 7, 7],\n",
       "        [7, 7, 7, 7, 7],\n",
       "        [7, 7, 7, 7, 7],\n",
       "        [7, 7, 7, 7, 7]])>,\n",
       " <tf.Tensor: shape=(2, 4), dtype=uint16, numpy=\n",
       " array([[1, 1, 1, 1],\n",
       "        [1, 1, 1, 1]], dtype=uint16)>)"
      ]
     },
     "execution_count": 3,
     "metadata": {},
     "output_type": "execute_result"
    }
   ],
   "source": [
    "tensor_1, tensor_2\n",
    "# for i in range(len(tensor_2.shape)): print(tensor_2[i])\n",
    "# type(tensor_2)"
   ]
  },
  {
   "cell_type": "markdown",
   "id": "8805c327",
   "metadata": {},
   "source": [
    "## TensorFlow Variables"
   ]
  },
  {
   "cell_type": "code",
   "execution_count": 4,
   "id": "3efd386d",
   "metadata": {},
   "outputs": [],
   "source": [
    "tensor_v1 = tf.Variable([5,6])"
   ]
  },
  {
   "cell_type": "code",
   "execution_count": 5,
   "id": "4c5c0652",
   "metadata": {},
   "outputs": [
    {
     "data": {
      "text/plain": [
       "<tf.Variable 'Variable:0' shape=(2,) dtype=int32, numpy=array([5, 6])>"
      ]
     },
     "execution_count": 5,
     "metadata": {},
     "output_type": "execute_result"
    }
   ],
   "source": [
    "tensor_v1"
   ]
  },
  {
   "cell_type": "code",
   "execution_count": null,
   "id": "df19eae1",
   "metadata": {},
   "outputs": [],
   "source": []
  }
 ],
 "metadata": {
  "kernelspec": {
   "display_name": "Python 3 (ipykernel)",
   "language": "python",
   "name": "python3"
  },
  "language_info": {
   "codemirror_mode": {
    "name": "ipython",
    "version": 3
   },
   "file_extension": ".py",
   "mimetype": "text/x-python",
   "name": "python",
   "nbconvert_exporter": "python",
   "pygments_lexer": "ipython3",
   "version": "3.11.0"
  }
 },
 "nbformat": 4,
 "nbformat_minor": 5
}
