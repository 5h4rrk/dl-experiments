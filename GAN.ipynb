{
 "cells": [
  {
   "cell_type": "code",
   "execution_count": 4,
   "id": "9605a6f1",
   "metadata": {},
   "outputs": [
    {
     "data": {
      "text/html": [
       "<style>.container { width:96% !important; }</style>"
      ],
      "text/plain": [
       "<IPython.core.display.HTML object>"
      ]
     },
     "metadata": {},
     "output_type": "display_data"
    }
   ],
   "source": [
    "from IPython.display import display, HTML\n",
    "display(HTML(\"<style>.container { width:96% !important; }</style>\"))"
   ]
  },
  {
   "cell_type": "code",
   "execution_count": 13,
   "id": "dd26376a",
   "metadata": {},
   "outputs": [],
   "source": [
    "import numpy as np\n",
    "import tensorflow as tf\n",
    "from tensorflow.keras import layers\n",
    "from tensorflow.keras.layers import Flatten, Dense, Conv2D, ReLU, LeakyReLU, Reshape\n",
    "from tensorflow.keras.optimizers import Adam\n",
    "from tensorflow.keras import Sequential"
   ]
  },
  {
   "cell_type": "code",
   "execution_count": 39,
   "id": "3eaa245b",
   "metadata": {},
   "outputs": [],
   "source": [
    "from keras.datasets import mnist"
   ]
  },
  {
   "cell_type": "code",
   "execution_count": 11,
   "id": "0540d5b8",
   "metadata": {},
   "outputs": [],
   "source": [
    "row = 32\n",
    "col = 32\n",
    "planes = 1\n",
    "\n",
    "img_shape = (row, col , planes)\n",
    "input_dims = 100"
   ]
  },
  {
   "cell_type": "markdown",
   "id": "07b68795",
   "metadata": {},
   "source": [
    "## Generator Network"
   ]
  },
  {
   "cell_type": "code",
   "execution_count": 23,
   "id": "151a21c3",
   "metadata": {},
   "outputs": [],
   "source": [
    "def build_the_generator(input_dims=input_dims, img_shape=img_shape):\n",
    "    generator = Sequential([\n",
    "                          Dense(512, input_dim=input_dims), # Input Layer\n",
    "                          LeakyReLU(alpha=0.01), # f(x) = a\n",
    "                          Dense(32 * 32 * 1, activation='tanh'), # Output Layer\n",
    "                          Reshape(img_shape)\n",
    "                         ])\n",
    "    return generator\n",
    "    \n",
    "    "
   ]
  },
  {
   "cell_type": "code",
   "execution_count": 24,
   "id": "ef732478",
   "metadata": {},
   "outputs": [],
   "source": [
    "generator = build_the_generator()"
   ]
  },
  {
   "cell_type": "code",
   "execution_count": 25,
   "id": "9d0278c0",
   "metadata": {},
   "outputs": [
    {
     "name": "stdout",
     "output_type": "stream",
     "text": [
      "0 <keras.layers.core.dense.Dense object at 0x000002DF8B9DA350>\n",
      "1 <keras.layers.activation.leaky_relu.LeakyReLU object at 0x000002DF8C6BAC90>\n",
      "2 <keras.layers.core.dense.Dense object at 0x000002DF89383D50>\n",
      "3 <keras.layers.reshaping.reshape.Reshape object at 0x000002DF89393E90>\n"
     ]
    }
   ],
   "source": [
    "for i, layers_name in enumerate(generator.layers):\n",
    "    print(i, layers_name)"
   ]
  },
  {
   "cell_type": "markdown",
   "id": "0db67f65",
   "metadata": {},
   "source": [
    "## Discriminator"
   ]
  },
  {
   "cell_type": "code",
   "execution_count": 26,
   "id": "e8c017e4",
   "metadata": {},
   "outputs": [],
   "source": [
    "def build_the_discriminator(img_shape=img_shape):\n",
    "    discriminator = Sequential([\n",
    "        Flatten(input_shape=img_shape),\n",
    "        Dense(512),\n",
    "        LeakyReLU(alpha=0.01),\n",
    "        Dense(1, activation='sigmoid') # Sigmoid, Since, the discriminator is doing binary classification\n",
    "    ])\n",
    "    return discriminator"
   ]
  },
  {
   "cell_type": "code",
   "execution_count": 27,
   "id": "4e2c9b5a",
   "metadata": {},
   "outputs": [],
   "source": [
    "discriminator=build_the_discriminator()"
   ]
  },
  {
   "cell_type": "code",
   "execution_count": 28,
   "id": "fde7170c",
   "metadata": {},
   "outputs": [
    {
     "name": "stdout",
     "output_type": "stream",
     "text": [
      "0 <keras.layers.reshaping.flatten.Flatten object at 0x000002DF8C9144D0>\n",
      "1 <keras.layers.core.dense.Dense object at 0x000002DF8CC27D90>\n",
      "2 <keras.layers.activation.leaky_relu.LeakyReLU object at 0x000002DF8C673F50>\n",
      "3 <keras.layers.core.dense.Dense object at 0x000002DF8CC36C10>\n"
     ]
    }
   ],
   "source": [
    "for i, layers_name in enumerate(discriminator.layers):\n",
    "    print(i, layers_name)"
   ]
  },
  {
   "cell_type": "code",
   "execution_count": 29,
   "id": "ec826fef",
   "metadata": {},
   "outputs": [],
   "source": [
    "def gan_model(generator=generator, discriminator=discriminator):\n",
    "    model_gan = Sequential([\n",
    "        generator,\n",
    "        discriminator\n",
    "    ])\n",
    "    return model_gan"
   ]
  },
  {
   "cell_type": "code",
   "execution_count": 30,
   "id": "b67d831e",
   "metadata": {},
   "outputs": [],
   "source": [
    "gan_model = gan_model()"
   ]
  },
  {
   "cell_type": "markdown",
   "id": "a4881799",
   "metadata": {},
   "source": [
    "#### Model Compilation"
   ]
  },
  {
   "cell_type": "code",
   "execution_count": 37,
   "id": "583adfac",
   "metadata": {},
   "outputs": [],
   "source": [
    "discriminator.compile(optimizer=tf.keras.optimizers.Adam(),\n",
    "                     loss=tf.keras.losses.binary_crossentropy,\n",
    "                     metrics=['accuracy'])\n",
    "\n",
    "# Freezing the Model\n",
    "discriminator.trainable = False\n",
    "\n",
    "# GAN Compilation\n",
    "gan_model.compile(loss=tf.keras.losses.binary_crossentropy,\n",
    "                 optimizer=Adam())"
   ]
  },
  {
   "cell_type": "code",
   "execution_count": 38,
   "id": "a5212116",
   "metadata": {},
   "outputs": [
    {
     "name": "stdout",
     "output_type": "stream",
     "text": [
      "Layer : 0 - <keras.engine.sequential.Sequential object at 0x000002DF8C542050>\n",
      "\tInner Layer : 0 - <keras.layers.core.dense.Dense object at 0x000002DF8B9DA350>\n",
      "\tInner Layer : 1 - <keras.layers.activation.leaky_relu.LeakyReLU object at 0x000002DF8C6BAC90>\n",
      "\tInner Layer : 2 - <keras.layers.core.dense.Dense object at 0x000002DF89383D50>\n",
      "\tInner Layer : 3 - <keras.layers.reshaping.reshape.Reshape object at 0x000002DF89393E90>\n",
      "Layer : 1 - <keras.engine.sequential.Sequential object at 0x000002DF8CC34510>\n",
      "\tInner Layer : 0 - <keras.layers.reshaping.flatten.Flatten object at 0x000002DF8C9144D0>\n",
      "\tInner Layer : 1 - <keras.layers.core.dense.Dense object at 0x000002DF8CC27D90>\n",
      "\tInner Layer : 2 - <keras.layers.activation.leaky_relu.LeakyReLU object at 0x000002DF8C673F50>\n",
      "\tInner Layer : 3 - <keras.layers.core.dense.Dense object at 0x000002DF8CC36C10>\n"
     ]
    }
   ],
   "source": [
    "for i , layers in enumerate(gan_model.layers):\n",
    "    print(f\"Layer : {i} - {layers}\")\n",
    "    for j, layers_name in enumerate(layers.layers):\n",
    "        print(f\"\\tInner Layer : {j} - {layers_name}\")"
   ]
  },
  {
   "cell_type": "markdown",
   "id": "5b6440b8",
   "metadata": {},
   "source": [
    "### Model Training"
   ]
  },
  {
   "cell_type": "code",
   "execution_count": 51,
   "id": "127e8b65",
   "metadata": {},
   "outputs": [],
   "source": [
    "losses = list()\n",
    "accuracies = list()\n",
    "chkps = list()\n",
    "\n",
    "def train_the_model(epochs , batch_size, checkpoint):\n",
    "    # Loading the dataset\n",
    "    (X_train, y_train), (X_val, y_val) = mnist.load_data()\n",
    "    \n",
    "    # Rescaling the dataset\n",
    "    X_train = X_train / X_train.max()\n",
    "    X_train = tf.expand_dims(X_train, axis=3) # Flatten the dataset \n",
    "    \n",
    "    # Real image labels\n",
    "    real_labels = np.ones((batch_size, 1))\n",
    "    # Fake image labels\n",
    "    fake_labels = np.zeros((batch_size, 1))\n",
    "    \n",
    "    for iteration in range(1,epochs + 1):\n",
    "        # Batch of real images\n",
    "        idx = np.random.randint(0, X_train.shape[0] , batch_size)\n",
    "        imgs = X_train[idx]\n",
    "        \n",
    "        # Batch of fake images \n",
    "        z = np.random.normal(0, 1, (batch_size))\n",
    "        z = tf.expand_dims(z, axis=1) # Flatten Image Matrix\n",
    "        gen_imgs = generator.predict(z)\n",
    "        \n",
    "        # Train Discriminator\n",
    "        d_loss_real = discriminator.train_on_batch(imgs, real_labels)\n",
    "        d_loss_fake = discriminator.train_on_batch(gen_imgs, fake_labels)\n",
    "        d_loss, accuracy = 0.5 * np.add(d_loss_fake, d_loss_real)\n",
    "        \n",
    "        # Batch of fake Images for GAN\n",
    "        z = np.random.normal(0, 1, (batch_size, 1)) # Flatten Image \n",
    "        gen_imgs = generator.predict(z)\n",
    "        \n",
    "        # GAN loss\n",
    "        g_loss = gan_model.train_on_batch(z, real_labels)\n",
    "        \n",
    "        if (iteration % checkpoint) == 0:\n",
    "            losses.append(d_loss, g_loss)\n",
    "            accuracies.append(100 * accuracy)\n",
    "            chkps.append(iteration)\n",
    "            \n",
    "            print(f\"[ Iteration : {iteration}, Loss : {d_loss}, Accuracy : {accuracy * 100}, GanLoss : {g_loss} ]\")\n",
    "            show_sample_images(generator)\n",
    "        "
   ]
  },
  {
   "cell_type": "code",
   "execution_count": 41,
   "id": "13d8a193",
   "metadata": {},
   "outputs": [],
   "source": [
    "def show_sample_images(generator,rows=4, cols=4):\n",
    "    \n",
    "    z = np.random.normal(0, 1, (rows * cols, input_dims))\n",
    "    gen_imgs = generator.predict(z)\n",
    "    \n",
    "    # Rescaling the image \n",
    "    #gen_imgs = 0.5 * gen_imgs + 0.5 \n",
    "    cnt = 0\n",
    "    plt.figure(figsize=(16,16))\n",
    "    for row in range(1, rows + 1):\n",
    "        for col in range(1, cols + 1):\n",
    "            plt.subplot(row, col , cnt + 1)\n",
    "            plt.imshow(gen_imgs[cnt, : , : , 0], cmap='gray')\n",
    "            plt.axis(False)\n",
    "            cnt += 1\n",
    "        \n",
    "    "
   ]
  },
  {
   "cell_type": "code",
   "execution_count": 50,
   "id": "8bf8a608",
   "metadata": {},
   "outputs": [
    {
     "ename": "TypeError",
     "evalue": "Only integers, slices (`:`), ellipsis (`...`), tf.newaxis (`None`) and scalar tf.int32/tf.int64 tensors are valid indices, got array([37104, 21402, 49647,  2308,  4888,  7605, 56521, 50931, 12039,\n       51679, 52852, 52947, 13242, 59265, 37394, 20444, 29963, 43773,\n       53203, 32249, 55178, 20857, 47618, 38034,  3612,  1599, 52535,\n       11418, 20046, 26416, 38725,  5723, 29328, 30268, 40452, 44107,\n       11972,  9157, 32770, 54650, 30934, 15991, 35429, 53844, 58928,\n       26727, 37649, 35869, 51812, 46786, 10323, 42968, 58411, 51459,\n       50407, 25724, 42662, 50737, 28103, 52879, 22241, 10453, 51701,\n       31756, 51815, 24664,  7825, 13991, 47759, 10382, 16148, 38152,\n       17079, 19974, 22742, 55730, 57004, 20155, 50717, 45748,  9361,\n       40415, 23702, 36451,  2844, 33579, 46646, 45245, 53963, 48034,\n        8494, 51934, 39233, 33712, 31045, 22799, 32480, 48996, 45612,\n        8088, 17385, 18977, 13308, 59215, 38002, 44439, 54580,  6233,\n        5044, 25752, 11050,  1213, 16049, 13203, 30204,  4570, 34477,\n       47597, 38948, 21864, 19542,  8893, 39462,  6588, 13845, 33218,\n       49309, 56737, 14601, 12338, 40278, 15681, 14499,  4082, 28700,\n       56985, 33862, 35817, 54303, 50850, 30384,  5357, 15455, 18281,\n       49674, 26334, 14525, 12034, 11797, 41051,  4072, 26874, 19476,\n       29043, 42508, 20716, 58882, 30288, 49325, 53601, 46067, 14498,\n        9254, 57390,  1929, 15716, 26128,  3957, 49082, 44611, 14145,\n       10154, 43274, 58040, 58018, 31531, 31500,   646, 42100, 44566,\n        2206, 57714, 41991, 13628, 27104, 19495, 23992, 21706, 30698,\n        4831, 14359, 53822, 35602, 55664,  5049, 58250, 40952, 39336,\n       37535, 11597,   573, 15537, 49569, 31941, 42656,  5617, 41101,\n       35333, 55145, 28073, 30919, 48606,  8349, 59543, 22275,   676,\n       47093, 18029, 24085,  2089, 14273, 50288, 46814, 58839,  5439,\n       16699, 16029, 35067,  7978, 50323, 33482, 25756, 57195, 14659,\n       26381, 42524, 58648, 46000, 42641, 39760, 50085, 36181, 52229,\n       38707, 22975, 10824, 13690, 42781, 26435, 49917, 11487, 51065,\n       43291, 53730, 25419, 32438, 20428, 19607,  6711, 41154,  2537,\n       45543,  3171, 19374, 32294, 44092, 11143, 25439, 53653, 42064,\n       53677,  3086, 40802, 42898, 35776,  1997, 29234,  3152, 18977,\n       34404,  1128, 17519, 21804, 23908, 48858, 34573, 51800, 55817,\n        8595, 17801,  5928, 31065, 50265, 12224, 39956, 44792, 33679,\n       33143, 10295,  2656,     2, 39278, 54740, 22531, 33907, 33705,\n        3459, 30194, 33910, 47205, 23384,  2300, 51444, 14705, 20442,\n       29965, 26237, 39830,  8899, 11213, 39638, 44746,  3613,  5668,\n       44983, 21475, 19746, 12924, 49590, 50942, 32055, 26166, 29239,\n       38543, 16195, 10753, 30141, 54183,  7369, 35948, 44068,  6039,\n        4041, 22286,  7973, 40694, 53653, 31250, 10517, 23608, 20962,\n       28879, 26772, 40948, 25659, 41614, 19200,  1688, 24878, 17465,\n       51290, 25138, 23158, 26156, 45080, 42151, 29110,   886, 34288,\n       31330, 19504, 51151, 37775, 37947,  4930, 16126, 49754, 26917,\n       13942, 55081, 45923, 57417, 40405, 15483,  5915, 54425, 52249,\n       56408,  8056,  2666, 43202, 56139, 50253,  5495, 54453, 15076,\n        8834, 57400, 32334, 32450, 45684, 50127,  7208, 37947,  8330,\n        9455, 45509, 50494, 14257, 37553,  2347, 38895, 35053,  1254,\n       29915, 54139, 14338, 20078, 58143, 23525, 25665, 10418, 57565,\n        4063, 24421, 39343, 23341, 30786, 12127, 43510,  5849,  9482,\n       37177, 18091, 48664, 49368, 23784, 22667, 49586, 41401,  2565,\n       57319, 19620, 51232, 42668, 20389, 40330, 21553, 42561, 33804,\n       46984, 34513, 43883, 10797, 12108, 22307, 30853, 19412, 50357,\n       16702, 18738, 52939, 26450,  3765, 18180, 26286, 15554,  4858,\n       22914,  6525, 46119,  3179, 32569, 10195,  5480, 38253, 23687,\n       33850, 49515, 10439, 42376, 21040, 59366, 19622, 13666,  6411,\n       24984, 52360,  2524, 59806, 50052, 37777, 58774, 15135,  7840,\n       55568, 53596, 45505, 59871, 15904, 11669, 41305, 41795, 25472,\n       45609, 26324, 11724, 10851, 43462, 31014, 50063, 46594])",
     "output_type": "error",
     "traceback": [
      "\u001b[1;31m---------------------------------------------------------------------------\u001b[0m",
      "\u001b[1;31mTypeError\u001b[0m                                 Traceback (most recent call last)",
      "Cell \u001b[1;32mIn[50], line 5\u001b[0m\n\u001b[0;32m      2\u001b[0m batch_size \u001b[38;5;241m=\u001b[39m \u001b[38;5;241m512\u001b[39m\n\u001b[0;32m      3\u001b[0m sample_interval \u001b[38;5;241m=\u001b[39m \u001b[38;5;241m1000\u001b[39m\n\u001b[1;32m----> 5\u001b[0m \u001b[43mtrain_the_model\u001b[49m\u001b[43m(\u001b[49m\u001b[43miterations\u001b[49m\u001b[43m,\u001b[49m\u001b[43m \u001b[49m\u001b[43mbatch_size\u001b[49m\u001b[43m,\u001b[49m\u001b[43m \u001b[49m\u001b[43msample_interval\u001b[49m\u001b[43m)\u001b[49m\n",
      "Cell \u001b[1;32mIn[49], line 21\u001b[0m, in \u001b[0;36mtrain_the_model\u001b[1;34m(epochs, batch_size, checkpoint)\u001b[0m\n\u001b[0;32m     18\u001b[0m \u001b[38;5;28;01mfor\u001b[39;00m iteration \u001b[38;5;129;01min\u001b[39;00m \u001b[38;5;28mrange\u001b[39m(\u001b[38;5;241m1\u001b[39m,epochs \u001b[38;5;241m+\u001b[39m \u001b[38;5;241m1\u001b[39m):\n\u001b[0;32m     19\u001b[0m     \u001b[38;5;66;03m# Batch of real images\u001b[39;00m\n\u001b[0;32m     20\u001b[0m     idx \u001b[38;5;241m=\u001b[39m np\u001b[38;5;241m.\u001b[39mrandom\u001b[38;5;241m.\u001b[39mrandint(\u001b[38;5;241m0\u001b[39m, X_train\u001b[38;5;241m.\u001b[39mshape[\u001b[38;5;241m0\u001b[39m] \u001b[38;5;241m-\u001b[39m\u001b[38;5;241m1\u001b[39m , batch_size)\n\u001b[1;32m---> 21\u001b[0m     imgs \u001b[38;5;241m=\u001b[39m \u001b[43mX_train\u001b[49m\u001b[43m[\u001b[49m\u001b[43midx\u001b[49m\u001b[43m]\u001b[49m\n\u001b[0;32m     23\u001b[0m     \u001b[38;5;66;03m# Batch of fake images \u001b[39;00m\n\u001b[0;32m     24\u001b[0m     z \u001b[38;5;241m=\u001b[39m np\u001b[38;5;241m.\u001b[39mrandom\u001b[38;5;241m.\u001b[39mnormal(\u001b[38;5;241m0\u001b[39m, \u001b[38;5;241m1\u001b[39m, (batch_size))\n",
      "File \u001b[1;32m~\\AppData\\Local\\Programs\\Python\\Python311\\Lib\\site-packages\\tensorflow\\python\\util\\traceback_utils.py:153\u001b[0m, in \u001b[0;36mfilter_traceback.<locals>.error_handler\u001b[1;34m(*args, **kwargs)\u001b[0m\n\u001b[0;32m    151\u001b[0m \u001b[38;5;28;01mexcept\u001b[39;00m \u001b[38;5;167;01mException\u001b[39;00m \u001b[38;5;28;01mas\u001b[39;00m e:\n\u001b[0;32m    152\u001b[0m   filtered_tb \u001b[38;5;241m=\u001b[39m _process_traceback_frames(e\u001b[38;5;241m.\u001b[39m__traceback__)\n\u001b[1;32m--> 153\u001b[0m   \u001b[38;5;28;01mraise\u001b[39;00m e\u001b[38;5;241m.\u001b[39mwith_traceback(filtered_tb) \u001b[38;5;28;01mfrom\u001b[39;00m \u001b[38;5;28;01mNone\u001b[39;00m\n\u001b[0;32m    154\u001b[0m \u001b[38;5;28;01mfinally\u001b[39;00m:\n\u001b[0;32m    155\u001b[0m   \u001b[38;5;28;01mdel\u001b[39;00m filtered_tb\n",
      "File \u001b[1;32m~\\AppData\\Local\\Programs\\Python\\Python311\\Lib\\site-packages\\tensorflow\\python\\ops\\array_ops.py:924\u001b[0m, in \u001b[0;36m_check_index\u001b[1;34m(idx)\u001b[0m\n\u001b[0;32m    919\u001b[0m dtype \u001b[38;5;241m=\u001b[39m \u001b[38;5;28mgetattr\u001b[39m(idx, \u001b[38;5;124m\"\u001b[39m\u001b[38;5;124mdtype\u001b[39m\u001b[38;5;124m\"\u001b[39m, \u001b[38;5;28;01mNone\u001b[39;00m)\n\u001b[0;32m    920\u001b[0m \u001b[38;5;28;01mif\u001b[39;00m (dtype \u001b[38;5;129;01mis\u001b[39;00m \u001b[38;5;28;01mNone\u001b[39;00m \u001b[38;5;129;01mor\u001b[39;00m dtypes\u001b[38;5;241m.\u001b[39mas_dtype(dtype) \u001b[38;5;129;01mnot\u001b[39;00m \u001b[38;5;129;01min\u001b[39;00m _SUPPORTED_SLICE_DTYPES \u001b[38;5;129;01mor\u001b[39;00m\n\u001b[0;32m    921\u001b[0m     idx\u001b[38;5;241m.\u001b[39mshape \u001b[38;5;129;01mand\u001b[39;00m \u001b[38;5;28mlen\u001b[39m(idx\u001b[38;5;241m.\u001b[39mshape) \u001b[38;5;241m==\u001b[39m \u001b[38;5;241m1\u001b[39m):\n\u001b[0;32m    922\u001b[0m   \u001b[38;5;66;03m# TODO(slebedev): IndexError seems more appropriate here, but it\u001b[39;00m\n\u001b[0;32m    923\u001b[0m   \u001b[38;5;66;03m# will break `_slice_helper` contract.\u001b[39;00m\n\u001b[1;32m--> 924\u001b[0m   \u001b[38;5;28;01mraise\u001b[39;00m \u001b[38;5;167;01mTypeError\u001b[39;00m(_SLICE_TYPE_ERROR \u001b[38;5;241m+\u001b[39m \u001b[38;5;124m\"\u001b[39m\u001b[38;5;124m, got \u001b[39m\u001b[38;5;132;01m{!r}\u001b[39;00m\u001b[38;5;124m\"\u001b[39m\u001b[38;5;241m.\u001b[39mformat(idx))\n",
      "\u001b[1;31mTypeError\u001b[0m: Only integers, slices (`:`), ellipsis (`...`), tf.newaxis (`None`) and scalar tf.int32/tf.int64 tensors are valid indices, got array([37104, 21402, 49647,  2308,  4888,  7605, 56521, 50931, 12039,\n       51679, 52852, 52947, 13242, 59265, 37394, 20444, 29963, 43773,\n       53203, 32249, 55178, 20857, 47618, 38034,  3612,  1599, 52535,\n       11418, 20046, 26416, 38725,  5723, 29328, 30268, 40452, 44107,\n       11972,  9157, 32770, 54650, 30934, 15991, 35429, 53844, 58928,\n       26727, 37649, 35869, 51812, 46786, 10323, 42968, 58411, 51459,\n       50407, 25724, 42662, 50737, 28103, 52879, 22241, 10453, 51701,\n       31756, 51815, 24664,  7825, 13991, 47759, 10382, 16148, 38152,\n       17079, 19974, 22742, 55730, 57004, 20155, 50717, 45748,  9361,\n       40415, 23702, 36451,  2844, 33579, 46646, 45245, 53963, 48034,\n        8494, 51934, 39233, 33712, 31045, 22799, 32480, 48996, 45612,\n        8088, 17385, 18977, 13308, 59215, 38002, 44439, 54580,  6233,\n        5044, 25752, 11050,  1213, 16049, 13203, 30204,  4570, 34477,\n       47597, 38948, 21864, 19542,  8893, 39462,  6588, 13845, 33218,\n       49309, 56737, 14601, 12338, 40278, 15681, 14499,  4082, 28700,\n       56985, 33862, 35817, 54303, 50850, 30384,  5357, 15455, 18281,\n       49674, 26334, 14525, 12034, 11797, 41051,  4072, 26874, 19476,\n       29043, 42508, 20716, 58882, 30288, 49325, 53601, 46067, 14498,\n        9254, 57390,  1929, 15716, 26128,  3957, 49082, 44611, 14145,\n       10154, 43274, 58040, 58018, 31531, 31500,   646, 42100, 44566,\n        2206, 57714, 41991, 13628, 27104, 19495, 23992, 21706, 30698,\n        4831, 14359, 53822, 35602, 55664,  5049, 58250, 40952, 39336,\n       37535, 11597,   573, 15537, 49569, 31941, 42656,  5617, 41101,\n       35333, 55145, 28073, 30919, 48606,  8349, 59543, 22275,   676,\n       47093, 18029, 24085,  2089, 14273, 50288, 46814, 58839,  5439,\n       16699, 16029, 35067,  7978, 50323, 33482, 25756, 57195, 14659,\n       26381, 42524, 58648, 46000, 42641, 39760, 50085, 36181, 52229,\n       38707, 22975, 10824, 13690, 42781, 26435, 49917, 11487, 51065,\n       43291, 53730, 25419, 32438, 20428, 19607,  6711, 41154,  2537,\n       45543,  3171, 19374, 32294, 44092, 11143, 25439, 53653, 42064,\n       53677,  3086, 40802, 42898, 35776,  1997, 29234,  3152, 18977,\n       34404,  1128, 17519, 21804, 23908, 48858, 34573, 51800, 55817,\n        8595, 17801,  5928, 31065, 50265, 12224, 39956, 44792, 33679,\n       33143, 10295,  2656,     2, 39278, 54740, 22531, 33907, 33705,\n        3459, 30194, 33910, 47205, 23384,  2300, 51444, 14705, 20442,\n       29965, 26237, 39830,  8899, 11213, 39638, 44746,  3613,  5668,\n       44983, 21475, 19746, 12924, 49590, 50942, 32055, 26166, 29239,\n       38543, 16195, 10753, 30141, 54183,  7369, 35948, 44068,  6039,\n        4041, 22286,  7973, 40694, 53653, 31250, 10517, 23608, 20962,\n       28879, 26772, 40948, 25659, 41614, 19200,  1688, 24878, 17465,\n       51290, 25138, 23158, 26156, 45080, 42151, 29110,   886, 34288,\n       31330, 19504, 51151, 37775, 37947,  4930, 16126, 49754, 26917,\n       13942, 55081, 45923, 57417, 40405, 15483,  5915, 54425, 52249,\n       56408,  8056,  2666, 43202, 56139, 50253,  5495, 54453, 15076,\n        8834, 57400, 32334, 32450, 45684, 50127,  7208, 37947,  8330,\n        9455, 45509, 50494, 14257, 37553,  2347, 38895, 35053,  1254,\n       29915, 54139, 14338, 20078, 58143, 23525, 25665, 10418, 57565,\n        4063, 24421, 39343, 23341, 30786, 12127, 43510,  5849,  9482,\n       37177, 18091, 48664, 49368, 23784, 22667, 49586, 41401,  2565,\n       57319, 19620, 51232, 42668, 20389, 40330, 21553, 42561, 33804,\n       46984, 34513, 43883, 10797, 12108, 22307, 30853, 19412, 50357,\n       16702, 18738, 52939, 26450,  3765, 18180, 26286, 15554,  4858,\n       22914,  6525, 46119,  3179, 32569, 10195,  5480, 38253, 23687,\n       33850, 49515, 10439, 42376, 21040, 59366, 19622, 13666,  6411,\n       24984, 52360,  2524, 59806, 50052, 37777, 58774, 15135,  7840,\n       55568, 53596, 45505, 59871, 15904, 11669, 41305, 41795, 25472,\n       45609, 26324, 11724, 10851, 43462, 31014, 50063, 46594])"
     ]
    }
   ],
   "source": [
    "iterations = 20000\n",
    "batch_size = 512\n",
    "sample_interval = 1000\n",
    "\n",
    "train_the_model(iterations, batch_size, sample_interval)"
   ]
  },
  {
   "cell_type": "code",
   "execution_count": null,
   "id": "57e3791f",
   "metadata": {},
   "outputs": [],
   "source": []
  }
 ],
 "metadata": {
  "kernelspec": {
   "display_name": "Python 3 (ipykernel)",
   "language": "python",
   "name": "python3"
  },
  "language_info": {
   "codemirror_mode": {
    "name": "ipython",
    "version": 3
   },
   "file_extension": ".py",
   "mimetype": "text/x-python",
   "name": "python",
   "nbconvert_exporter": "python",
   "pygments_lexer": "ipython3",
   "version": "3.11.0"
  }
 },
 "nbformat": 4,
 "nbformat_minor": 5
}
