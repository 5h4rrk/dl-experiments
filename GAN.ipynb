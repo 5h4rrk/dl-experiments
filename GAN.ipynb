{
 "cells": [
  {
   "cell_type": "code",
   "execution_count": 4,
   "id": "a84f9ac8",
   "metadata": {},
   "outputs": [
    {
     "data": {
      "text/html": [
       "<style>.container { width:96% !important; }</style>"
      ],
      "text/plain": [
       "<IPython.core.display.HTML object>"
      ]
     },
     "metadata": {},
     "output_type": "display_data"
    }
   ],
   "source": [
    "from IPython.display import display, HTML\n",
    "display(HTML(\"<style>.container { width:96% !important; }</style>\"))"
   ]
  },
  {
   "cell_type": "code",
   "execution_count": 13,
   "id": "6302ab85",
   "metadata": {},
   "outputs": [],
   "source": [
    "import numpy as np\n",
    "import tensorflow as tf\n",
    "from tensorflow.keras import layers\n",
    "from tensorflow.keras.layers import Flatten, Dense, Conv2D, ReLU, LeakyReLU, Reshape\n",
    "from tensorflow.keras.optimizers import Adam\n",
    "from tensorflow.keras import Sequential"
   ]
  },
  {
   "cell_type": "code",
   "execution_count": 11,
   "id": "8afc17ac",
   "metadata": {},
   "outputs": [],
   "source": [
    "row = 32\n",
    "col = 32\n",
    "planes = 1\n",
    "\n",
    "img_shape = (row, col , planes)\n",
    "input_dims = 100"
   ]
  },
  {
   "cell_type": "markdown",
   "id": "bbc3d534",
   "metadata": {},
   "source": [
    "## Generator Network"
   ]
  },
  {
   "cell_type": "code",
   "execution_count": 23,
   "id": "58310ea1",
   "metadata": {},
   "outputs": [],
   "source": [
    "def build_the_generator(input_dims=input_dims, img_shape=img_shape):\n",
    "    generator = Sequential([\n",
    "                          Dense(512, input_dim=input_dims), # Input Layer\n",
    "                          LeakyReLU(alpha=0.01), # f(x) = ax\n",
    "                          Dense(32 * 32 * 1, activation='tanh'), # Output Layer\n",
    "                          Reshape(img_shape)\n",
    "                         ])\n",
    "    return generator\n",
    "    \n",
    "    "
   ]
  },
  {
   "cell_type": "code",
   "execution_count": 24,
   "id": "86186364",
   "metadata": {},
   "outputs": [],
   "source": [
    "generator = build_the_generator()"
   ]
  },
  {
   "cell_type": "code",
   "execution_count": 25,
   "id": "da2d385b",
   "metadata": {},
   "outputs": [
    {
     "name": "stdout",
     "output_type": "stream",
     "text": [
      "0 <keras.layers.core.dense.Dense object at 0x000002DF8B9DA350>\n",
      "1 <keras.layers.activation.leaky_relu.LeakyReLU object at 0x000002DF8C6BAC90>\n",
      "2 <keras.layers.core.dense.Dense object at 0x000002DF89383D50>\n",
      "3 <keras.layers.reshaping.reshape.Reshape object at 0x000002DF89393E90>\n"
     ]
    }
   ],
   "source": [
    "for i, layers_name in enumerate(generator.layers):\n",
    "    print(i, layers_name)"
   ]
  },
  {
   "cell_type": "markdown",
   "id": "86db41f1",
   "metadata": {},
   "source": [
    "## Discriminator"
   ]
  },
  {
   "cell_type": "code",
   "execution_count": 26,
   "id": "e980cacf",
   "metadata": {},
   "outputs": [],
   "source": [
    "def build_the_discriminator(img_shape=img_shape):\n",
    "    discriminator = Sequential([\n",
    "        Flatten(input_shape=img_shape),\n",
    "        Dense(512),\n",
    "        LeakyReLU(alpha=0.01),\n",
    "        Dense(1, activation='sigmoid') # Sigmoid, Since, the discriminator is doing binary classification\n",
    "    ])\n",
    "    return discriminator"
   ]
  },
  {
   "cell_type": "code",
   "execution_count": 27,
   "id": "881bb272",
   "metadata": {},
   "outputs": [],
   "source": [
    "discriminator=build_the_discriminator()"
   ]
  },
  {
   "cell_type": "code",
   "execution_count": 28,
   "id": "f9bd2420",
   "metadata": {},
   "outputs": [
    {
     "name": "stdout",
     "output_type": "stream",
     "text": [
      "0 <keras.layers.reshaping.flatten.Flatten object at 0x000002DF8C9144D0>\n",
      "1 <keras.layers.core.dense.Dense object at 0x000002DF8CC27D90>\n",
      "2 <keras.layers.activation.leaky_relu.LeakyReLU object at 0x000002DF8C673F50>\n",
      "3 <keras.layers.core.dense.Dense object at 0x000002DF8CC36C10>\n"
     ]
    }
   ],
   "source": [
    "for i, layers_name in enumerate(discriminator.layers):\n",
    "    print(i, layers_name)"
   ]
  },
  {
   "cell_type": "code",
   "execution_count": 29,
   "id": "e1cb1d3f",
   "metadata": {},
   "outputs": [],
   "source": [
    "def gan_model(generator=generator, discriminator=discriminator):\n",
    "    model_gan = Sequential([\n",
    "        generator,\n",
    "        discriminator\n",
    "    ])\n",
    "    return model_gan"
   ]
  },
  {
   "cell_type": "code",
   "execution_count": 30,
   "id": "f34841af",
   "metadata": {},
   "outputs": [],
   "source": [
    "gan_model = gan_model()"
   ]
  },
  {
   "cell_type": "code",
   "execution_count": 34,
   "id": "221bbd95",
   "metadata": {},
   "outputs": [
    {
     "name": "stdout",
     "output_type": "stream",
     "text": [
      "Layer : 0 - <keras.engine.sequential.Sequential object at 0x000002DF8C542050>\n",
      "\tInner Layer : 0 - <keras.layers.core.dense.Dense object at 0x000002DF8B9DA350>\n",
      "\tInner Layer : 1 - <keras.layers.activation.leaky_relu.LeakyReLU object at 0x000002DF8C6BAC90>\n",
      "\tInner Layer : 2 - <keras.layers.core.dense.Dense object at 0x000002DF89383D50>\n",
      "\tInner Layer : 3 - <keras.layers.reshaping.reshape.Reshape object at 0x000002DF89393E90>\n",
      "Layer : 1 - <keras.engine.sequential.Sequential object at 0x000002DF8CC34510>\n",
      "\tInner Layer : 0 - <keras.layers.reshaping.flatten.Flatten object at 0x000002DF8C9144D0>\n",
      "\tInner Layer : 1 - <keras.layers.core.dense.Dense object at 0x000002DF8CC27D90>\n",
      "\tInner Layer : 2 - <keras.layers.activation.leaky_relu.LeakyReLU object at 0x000002DF8C673F50>\n",
      "\tInner Layer : 3 - <keras.layers.core.dense.Dense object at 0x000002DF8CC36C10>\n"
     ]
    }
   ],
   "source": [
    "for i , layers in enumerate(gan_model.layers):\n",
    "    print(f\"Layer : {i} - {layers}\")\n",
    "    for j, layers_name in enumerate(layers.layers):\n",
    "        print(f\"\\tInner Layer : {j} - {layers_name}\")"
   ]
  },
  {
   "cell_type": "code",
   "execution_count": null,
   "id": "b384ebec",
   "metadata": {},
   "outputs": [],
   "source": []
  }
 ],
 "metadata": {
  "kernelspec": {
   "display_name": "Python 3 (ipykernel)",
   "language": "python",
   "name": "python3"
  },
  "language_info": {
   "codemirror_mode": {
    "name": "ipython",
    "version": 3
   },
   "file_extension": ".py",
   "mimetype": "text/x-python",
   "name": "python",
   "nbconvert_exporter": "python",
   "pygments_lexer": "ipython3",
   "version": "3.11.0"
  }
 },
 "nbformat": 4,
 "nbformat_minor": 5
}
