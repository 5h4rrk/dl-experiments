{
 "cells": [
  {
   "cell_type": "code",
   "execution_count": 2,
   "id": "79436b45",
   "metadata": {},
   "outputs": [],
   "source": [
    "import numpy as np\n",
    "import tensorflow as tf\n",
    "import matplotlib.pyplot as plt\n",
    "from tensorflow.keras.models import Sequential\n",
    "from tensorflow.keras.layers import Dense, Input, Activation\n",
    "from tensorflow.keras.datasets import boston_housing\n",
    "from tensorflow.keras import layers\n"
   ]
  },
  {
   "cell_type": "code",
   "execution_count": 3,
   "id": "f8c22e71",
   "metadata": {},
   "outputs": [],
   "source": [
    "tf.random.set_seed(42)\n",
    "model = Sequential(\n",
    "Dense(1)\n",
    ")"
   ]
  },
  {
   "cell_type": "code",
   "execution_count": 4,
   "id": "060f9e99",
   "metadata": {},
   "outputs": [
    {
     "data": {
      "text/plain": [
       "<keras.engine.sequential.Sequential at 0x1f2048d8610>"
      ]
     },
     "execution_count": 4,
     "metadata": {},
     "output_type": "execute_result"
    }
   ],
   "source": [
    "model"
   ]
  },
  {
   "cell_type": "code",
   "execution_count": 5,
   "id": "05fc5fbc",
   "metadata": {},
   "outputs": [],
   "source": [
    "# Data\n",
    "X = (np.arange(-200,200,4))\n",
    "y = X + 10"
   ]
  },
  {
   "cell_type": "code",
   "execution_count": 6,
   "id": "a4ad4057",
   "metadata": {},
   "outputs": [
    {
     "data": {
      "text/plain": [
       "(array([-200, -196, -192, -188, -184, -180, -176, -172, -168, -164, -160,\n",
       "        -156, -152, -148, -144, -140, -136, -132, -128, -124, -120, -116,\n",
       "        -112, -108, -104, -100,  -96,  -92,  -88,  -84,  -80,  -76,  -72,\n",
       "         -68,  -64,  -60,  -56,  -52,  -48,  -44,  -40,  -36,  -32,  -28,\n",
       "         -24,  -20,  -16,  -12,   -8,   -4,    0,    4,    8,   12,   16,\n",
       "          20,   24,   28,   32,   36,   40,   44,   48,   52,   56,   60,\n",
       "          64,   68,   72,   76,   80,   84,   88,   92,   96,  100,  104,\n",
       "         108,  112,  116,  120,  124,  128,  132,  136,  140,  144,  148,\n",
       "         152,  156,  160,  164,  168,  172,  176,  180,  184,  188,  192,\n",
       "         196]),\n",
       " array([-190, -186, -182, -178, -174, -170, -166, -162, -158, -154, -150,\n",
       "        -146, -142, -138, -134, -130, -126, -122, -118, -114, -110, -106,\n",
       "        -102,  -98,  -94,  -90,  -86,  -82,  -78,  -74,  -70,  -66,  -62,\n",
       "         -58,  -54,  -50,  -46,  -42,  -38,  -34,  -30,  -26,  -22,  -18,\n",
       "         -14,  -10,   -6,   -2,    2,    6,   10,   14,   18,   22,   26,\n",
       "          30,   34,   38,   42,   46,   50,   54,   58,   62,   66,   70,\n",
       "          74,   78,   82,   86,   90,   94,   98,  102,  106,  110,  114,\n",
       "         118,  122,  126,  130,  134,  138,  142,  146,  150,  154,  158,\n",
       "         162,  166,  170,  174,  178,  182,  186,  190,  194,  198,  202,\n",
       "         206]))"
      ]
     },
     "execution_count": 6,
     "metadata": {},
     "output_type": "execute_result"
    }
   ],
   "source": [
    "X,y"
   ]
  },
  {
   "cell_type": "code",
   "execution_count": 7,
   "id": "ecc13e90",
   "metadata": {},
   "outputs": [],
   "source": [
    "# Splitting of Data\n",
    "# 80 % training data & 20 % Test data\n",
    "train_X = X[:int((0.8) * 100)]\n",
    "train_y = y[:int((0.8) * 100)]\n",
    "\n",
    "\n",
    "## Test Data\n",
    "\n",
    "test_X = X[int((0.8) * 100):]\n",
    "test_y = y[int((0.8) * 100): ]"
   ]
  },
  {
   "cell_type": "code",
   "execution_count": 8,
   "id": "cb790fea",
   "metadata": {},
   "outputs": [
    {
     "data": {
      "text/plain": [
       "100"
      ]
     },
     "execution_count": 8,
     "metadata": {},
     "output_type": "execute_result"
    }
   ],
   "source": [
    "assert (len(train_X) + len(test_X)) == len(X)\n",
    "len(X)"
   ]
  },
  {
   "cell_type": "code",
   "execution_count": 9,
   "id": "a8540bc6",
   "metadata": {},
   "outputs": [
    {
     "data": {
      "text/plain": [
       "<matplotlib.legend.Legend at 0x1f204c18250>"
      ]
     },
     "execution_count": 9,
     "metadata": {},
     "output_type": "execute_result"
    },
    {
     "data": {
      "image/png": "[encoded data removed]",
      "text/plain": [
       "<Figure size 1000x600 with 1 Axes>"
      ]
     },
     "metadata": {},
     "output_type": "display_data"
    }
   ],
   "source": [
    "# Visualization\n",
    "\n",
    "plt.figure(figsize=(10,6))\n",
    "\n",
    "plt.scatter(train_X, train_y, c='r',label=\"Train Data\")\n",
    "plt.scatter(test_X, test_y, c='g', label= \"Test Data\")\n",
    "plt.legend()"
   ]
  },
  {
   "cell_type": "code",
   "execution_count": 10,
   "id": "bf0d4f1a",
   "metadata": {},
   "outputs": [],
   "source": [
    "tf.random.set_seed(42)\n",
    "model = Sequential([\n",
    "Dense(1, input_shape=[1])\n",
    "]\n",
    ")\n",
    "\n",
    "# Model Compilation\n",
    "\n",
    "model.compile(loss=tf.keras.losses.mae,\n",
    "             optimizer=tf.keras.optimizers.SGD(),\n",
    "             metrics=[\"mae\"])\n",
    "                       \n",
    "\n",
    "# model.compile(loss=tf.keras.losses.mae,\n",
    "#              optimizer=tf.keras.optimizers.Adam(learning_rate=0.01),\n",
    "#              metrics=[\"mae\"])\n",
    "# model.summary()"
   ]
  },
  {
   "cell_type": "code",
   "execution_count": 11,
   "id": "a8c06bb6",
   "metadata": {},
   "outputs": [
    {
     "data": {
      "text/plain": [
       "<keras.callbacks.History at 0x1f204e94f50>"
      ]
     },
     "execution_count": 11,
     "metadata": {},
     "output_type": "execute_result"
    }
   ],
   "source": [
    "model.fit(train_X, train_y, epochs=1000, verbose=0)"
   ]
  },
  {
   "cell_type": "code",
   "execution_count": 12,
   "id": "414b4608",
   "metadata": {},
   "outputs": [
    {
     "name": "stdout",
     "output_type": "stream",
     "text": [
      "1/1 [==============================] - 0s 263ms/step\n"
     ]
    },
    {
     "data": {
      "text/plain": [
       "array([[260.13922]], dtype=float32)"
      ]
     },
     "execution_count": 12,
     "metadata": {},
     "output_type": "execute_result"
    }
   ],
   "source": [
    "model.predict([200])"
   ]
  },
  {
   "cell_type": "code",
   "execution_count": 13,
   "id": "cde70685",
   "metadata": {},
   "outputs": [
    {
     "name": "stdout",
     "output_type": "stream",
     "text": [
      "Model: \"sequential_1\"\n",
      "_________________________________________________________________\n",
      " Layer (type)                Output Shape              Param #   \n",
      "=================================================================\n",
      " dense_1 (Dense)             (None, 1)                 2         \n",
      "                                                                 \n",
      "=================================================================\n",
      "Total params: 2\n",
      "Trainable params: 2\n",
      "Non-trainable params: 0\n",
      "_________________________________________________________________\n"
     ]
    }
   ],
   "source": [
    "model.summary()"
   ]
  },
  {
   "cell_type": "code",
   "execution_count": 14,
   "id": "15e28829",
   "metadata": {},
   "outputs": [
    {
     "name": "stdout",
     "output_type": "stream",
     "text": [
      "You must install pydot (`pip install pydot`) and install graphviz (see instructions at https://graphviz.gitlab.io/download/) for plot_model to work.\n"
     ]
    }
   ],
   "source": [
    "tf.keras.utils.plot_model(model, show_shapes=True)"
   ]
  },
  {
   "cell_type": "code",
   "execution_count": 15,
   "id": "f9757da4",
   "metadata": {},
   "outputs": [
    {
     "name": "stdout",
     "output_type": "stream",
     "text": [
      "1/1 [==============================] - 0s 62ms/step\n"
     ]
    }
   ],
   "source": [
    "y_predicts = model.predict(test_X)"
   ]
  },
  {
   "cell_type": "code",
   "execution_count": 16,
   "id": "cab57c16",
   "metadata": {},
   "outputs": [
    {
     "data": {
      "text/plain": [
       "(array([130, 134, 138, 142, 146, 150, 154, 158, 162, 166, 170, 174, 178,\n",
       "        182, 186, 190, 194, 198, 202, 206]),\n",
       " array([[157.9398 ],\n",
       "        [163.04977],\n",
       "        [168.15974],\n",
       "        [173.26971],\n",
       "        [178.37968],\n",
       "        [183.48965],\n",
       "        [188.59962],\n",
       "        [193.70961],\n",
       "        [198.81958],\n",
       "        [203.92955],\n",
       "        [209.03952],\n",
       "        [214.14949],\n",
       "        [219.25946],\n",
       "        [224.36943],\n",
       "        [229.47942],\n",
       "        [234.58939],\n",
       "        [239.69936],\n",
       "        [244.80933],\n",
       "        [249.9193 ],\n",
       "        [255.02927]], dtype=float32))"
      ]
     },
     "execution_count": 16,
     "metadata": {},
     "output_type": "execute_result"
    }
   ],
   "source": [
    "test_y,y_predicts"
   ]
  },
  {
   "cell_type": "code",
   "execution_count": 17,
   "id": "d483b617",
   "metadata": {},
   "outputs": [],
   "source": [
    "class PredictPlot:\n",
    "    def __init__(self,train_X, train_y,test_X,test_y, predict_val)-> None:\n",
    "        self.train_X = np.array(train_X)\n",
    "        self.train_y = np.array(train_y)\n",
    "        self.test_X = np.array(test_X)\n",
    "        self.test_y = np.array(test_y)\n",
    "        self.predict = np.array(predict_val)\n",
    "        self.plotThePrediction()\n",
    "        \n",
    "    def plotThePrediction(self):\n",
    "        plt.figure(figsize=(10,7))\n",
    "        plt.scatter(self.test_X, self.test_y, c='r', label=\"Testing Data\")\n",
    "        plt.scatter(self.train_X, self.train_y, c='g', label=\"Training Data\")\n",
    "        plt.scatter(self.test_X, self.predict, c='b', label=\"Prediction\")\n",
    "        plt.legend();\n"
   ]
  },
  {
   "cell_type": "code",
   "execution_count": 18,
   "id": "3b757db7",
   "metadata": {},
   "outputs": [
    {
     "data": {
      "text/plain": [
       "<__main__.PredictPlot at 0x1f2050553d0>"
      ]
     },
     "execution_count": 18,
     "metadata": {},
     "output_type": "execute_result"
    },
    {
     "data": {
      "image/png": "[encoded data removed]",
      "text/plain": [
       "<Figure size 1000x700 with 1 Axes>"
      ]
     },
     "metadata": {},
     "output_type": "display_data"
    }
   ],
   "source": [
    "PredictPlot(train_X, train_y,test_X, test_y, y_predicts)"
   ]
  },
  {
   "cell_type": "markdown",
   "id": "bb50fe09",
   "metadata": {},
   "source": [
    "## Evaluating Predictions"
   ]
  },
  {
   "cell_type": "code",
   "execution_count": 19,
   "id": "06ccac34",
   "metadata": {},
   "outputs": [
    {
     "name": "stdout",
     "output_type": "stream",
     "text": [
      "1/1 [==============================] - 0s 352ms/step - loss: 38.4845 - mae: 38.4845\n"
     ]
    },
    {
     "data": {
      "text/plain": [
       "[38.484535217285156, 38.484535217285156]"
      ]
     },
     "execution_count": 19,
     "metadata": {},
     "output_type": "execute_result"
    }
   ],
   "source": [
    "model.evaluate(test_X, test_y)"
   ]
  },
  {
   "cell_type": "code",
   "execution_count": 20,
   "id": "eda003eb",
   "metadata": {},
   "outputs": [],
   "source": [
    "# Mean Absolute Error\n",
    "\n",
    "mae = tf.metrics.mean_absolute_error(y_true=test_X, y_pred=y_predicts)"
   ]
  },
  {
   "cell_type": "code",
   "execution_count": 21,
   "id": "1fe0f3b9",
   "metadata": {},
   "outputs": [
    {
     "data": {
      "text/plain": [
       "((20,), (20, 1))"
      ]
     },
     "execution_count": 21,
     "metadata": {},
     "output_type": "execute_result"
    }
   ],
   "source": [
    "test_y.shape, y_predicts.shape"
   ]
  },
  {
   "cell_type": "code",
   "execution_count": 22,
   "id": "b552ea93",
   "metadata": {},
   "outputs": [
    {
     "data": {
      "text/plain": [
       "<tf.Tensor: shape=(20,), dtype=float32, numpy=\n",
       "array([20.      , 20.304977, 21.247923, 22.907887, 25.189842, 28.093792,\n",
       "       31.679699, 35.93865 , 40.81958 , 45.929554, 51.03952 , 56.149487,\n",
       "       61.25946 , 66.36943 , 71.479416, 76.589386, 81.699356, 86.809326,\n",
       "       91.9193  , 97.029274], dtype=float32)>"
      ]
     },
     "execution_count": 22,
     "metadata": {},
     "output_type": "execute_result"
    }
   ],
   "source": [
    "mae\n",
    "\n",
    "# but in our case, the y val should be near around 10"
   ]
  },
  {
   "cell_type": "markdown",
   "id": "dd1e1001",
   "metadata": {},
   "source": [
    "### Fix the dimensionality "
   ]
  },
  {
   "cell_type": "code",
   "execution_count": 23,
   "id": "e1390176",
   "metadata": {},
   "outputs": [
    {
     "data": {
      "text/plain": [
       "(array([130, 134, 138, 142, 146, 150, 154, 158, 162, 166, 170, 174, 178,\n",
       "        182, 186, 190, 194, 198, 202, 206]),\n",
       " array([157.9398 , 163.04977, 168.15974, 173.26971, 178.37968, 183.48965,\n",
       "        188.59962, 193.70961, 198.81958, 203.92955, 209.03952, 214.14949,\n",
       "        219.25946, 224.36943, 229.47942, 234.58939, 239.69936, 244.80933,\n",
       "        249.9193 , 255.02927], dtype=float32))"
      ]
     },
     "execution_count": 23,
     "metadata": {},
     "output_type": "execute_result"
    }
   ],
   "source": [
    "test_y, y_predicts.squeeze()"
   ]
  },
  {
   "cell_type": "code",
   "execution_count": 24,
   "id": "f4df15db",
   "metadata": {},
   "outputs": [],
   "source": [
    "# Mean Absolute Error\n",
    "\n",
    "mae = tf.metrics.mean_absolute_error(y_true=test_X, y_pred=y_predicts.squeeze())"
   ]
  },
  {
   "cell_type": "code",
   "execution_count": 25,
   "id": "8c8e836b",
   "metadata": {},
   "outputs": [
    {
     "data": {
      "text/plain": [
       "<tf.Tensor: shape=(), dtype=float32, numpy=48.484535>"
      ]
     },
     "execution_count": 25,
     "metadata": {},
     "output_type": "execute_result"
    }
   ],
   "source": [
    "mae"
   ]
  },
  {
   "cell_type": "code",
   "execution_count": 26,
   "id": "d76ef9b2",
   "metadata": {},
   "outputs": [],
   "source": [
    "# Sqeeuzing to match the dimensionality\n",
    "\n",
    "def calculate_mae(train_data, predict_data):\n",
    "    return tf.metrics.mean_absolute_error(y_true=train_data, y_pred=predict_data.squeeze())\n",
    "\n",
    "def calculate_mse(train_data, predict_data):\n",
    "    return tf.metrics.mean_squared_error(y_true=train_data, y_pred=predict_data.squeeze())"
   ]
  },
  {
   "cell_type": "code",
   "execution_count": 27,
   "id": "a26aa07d",
   "metadata": {},
   "outputs": [
    {
     "data": {
      "text/plain": [
       "(<tf.Tensor: shape=(), dtype=float32, numpy=48.484535>,\n",
       " <tf.Tensor: shape=(), dtype=float32, numpy=2391.7153>)"
      ]
     },
     "execution_count": 27,
     "metadata": {},
     "output_type": "execute_result"
    }
   ],
   "source": [
    "mae = calculate_mae(test_X, y_predicts)\n",
    "mse = calculate_mse(test_X, y_predicts)\n",
    "mae, mse"
   ]
  },
  {
   "cell_type": "markdown",
   "id": "5a953964",
   "metadata": {},
   "source": [
    "***Let's Create 3 Different Models***\n",
    "\n",
    "- **Model_1 = 1 Hidden Layer, epochs =100 | 200 | 300 | 400 | 500 | 600**\n",
    "\n",
    "- **Model_2 = 3 Hidden Layers, epochs = 100**\n",
    "\n",
    "- **Model_3 = 2 Hidden Layers, epochs = 200**\n"
   ]
  },
  {
   "cell_type": "markdown",
   "id": "c488a1fa",
   "metadata": {},
   "source": [
    "## Model 1"
   ]
  },
  {
   "cell_type": "code",
   "execution_count": 28,
   "id": "0af54371",
   "metadata": {},
   "outputs": [
    {
     "name": "stdout",
     "output_type": "stream",
     "text": [
      "1/1 [==============================] - 0s 121ms/step\n",
      "tf.Tensor(61.973534, shape=(), dtype=float32) tf.Tensor(3922.711, shape=(), dtype=float32)\n"
     ]
    },
    {
     "data": {
      "image/png": "[encoded data removed]",
      "text/plain": [
       "<Figure size 1000x700 with 1 Axes>"
      ]
     },
     "metadata": {},
     "output_type": "display_data"
    }
   ],
   "source": [
    "tf.random.set_seed(42)\n",
    "\n",
    "# 1. Create a Model\n",
    "\n",
    "model1 = tf.keras.Sequential([\n",
    "    tf.keras.layers.Dense(1, input_shape=[1])\n",
    "])\n",
    "\n",
    "# 2. Compile the model\n",
    "\n",
    "model1.compile(loss=tf.keras.losses.mae,\n",
    "              optimizer=tf.keras.optimizers.SGD(),\n",
    "              metrics=[\"mae\"])\n",
    "\n",
    "# 3. Fit the model\n",
    "\n",
    "model1.fit(train_X, train_y, epochs=10, verbose=0)\n",
    "\n",
    "# 4. Predict the values\n",
    "\n",
    "y_predicts1 = (model1.predict(test_X))\n",
    "\n",
    "# 5. Visualize the real & predicted values\n",
    "\n",
    "PredictPlot(train_X, train_y, test_X , test_y , y_predicts1)\n",
    "\n",
    "# 6. Calculate the mae & mse \n",
    "mae1 = calculate_mae(test_X, y_predicts1)\n",
    "mse1 = calculate_mse(test_X, y_predicts1)\n",
    "print(mae1, mse1)\n"
   ]
  },
  {
   "cell_type": "markdown",
   "id": "eed1e7c2",
   "metadata": {},
   "source": [
    "### Model 2"
   ]
  },
  {
   "cell_type": "code",
   "execution_count": 46,
   "id": "51156c02",
   "metadata": {},
   "outputs": [
    {
     "name": "stdout",
     "output_type": "stream",
     "text": [
      "1/1 [==============================] - 0s 146ms/step\n",
      "tf.Tensor(158.57541, shape=(), dtype=float32) tf.Tensor(25678.12, shape=(), dtype=float32)\n"
     ]
    },
    {
     "data": {
      "image/png": "[encoded data removed]",
      "text/plain": [
       "<Figure size 1000x700 with 1 Axes>"
      ]
     },
     "metadata": {},
     "output_type": "display_data"
    }
   ],
   "source": [
    "tf.random.set_seed(42)\n",
    "\n",
    "# 1. Create a Model\n",
    "\n",
    "model2 = tf.keras.Sequential([\n",
    "    tf.keras.layers.Dense(1),\n",
    "    tf.keras.layers.Dense(1),\n",
    "    tf.keras.layers.Dense(1, input_shape=[1])\n",
    "])\n",
    "\n",
    "# 2. Compile the model\n",
    "\n",
    "model2.compile(loss=tf.keras.losses.mae,\n",
    "              optimizer=tf.keras.optimizers.SGD(),\n",
    "              metrics=[\"mae\"])\n",
    "\n",
    "# 3. Fit the model\n",
    "\n",
    "model2.fit(tf.expand_dims(train_X, axis=-1), train_y, epochs=100, verbose=0)\n",
    "\n",
    "# 4. Predict the values\n",
    "\n",
    "y_predicts2 = model2.predict(test_X)\n",
    "\n",
    "# test_X.shape, test_y.shape , train_X.shape , train_y.shape , y_predicts2.shape\n",
    "\n",
    "# 5. Visualize the real & predicted values\n",
    "\n",
    "PredictPlot(train_X, train_y, test_X , test_y , y_predicts2)\n",
    "\n",
    "# 6. Calculate the mae & mse \n",
    "mae2 = calculate_mae(test_X, y_predicts2)\n",
    "mse2 = calculate_mse(test_X, y_predicts2)\n",
    "print(mae2, mse2)\n"
   ]
  },
  {
   "cell_type": "markdown",
   "id": "7283dd29",
   "metadata": {},
   "source": [
    "### Model 3"
   ]
  },
  {
   "cell_type": "code",
   "execution_count": 49,
   "id": "031fd526",
   "metadata": {},
   "outputs": [
    {
     "name": "stdout",
     "output_type": "stream",
     "text": [
      "1/1 [==============================] - 0s 127ms/step\n",
      "tf.Tensor(149.9919, shape=(), dtype=float32) tf.Tensor(22977.348, shape=(), dtype=float32)\n"
     ]
    },
    {
     "data": {
      "image/png": "[encoded data removed]",
      "text/plain": [
       "<Figure size 1000x700 with 1 Axes>"
      ]
     },
     "metadata": {},
     "output_type": "display_data"
    }
   ],
   "source": [
    "# 1. Create a Model\n",
    "\n",
    "model3 = tf.keras.Sequential([\n",
    "    tf.keras.layers.Dense(1),\n",
    "    tf.keras.layers.Dense(1, input_shape=[1])\n",
    "])\n",
    " \n",
    "# 2. Model Compilation\n",
    "\n",
    "model3.compile(loss=tf.keras.losses.mae,\n",
    "              optimizer=tf.keras.optimizers.SGD(),\n",
    "              metrics=[\"mae\"])\n",
    "\n",
    "# 3. Model Fitting \n",
    "\n",
    "model3.fit(tf.expand_dims(train_X, axis=-1), train_y, epochs=300, verbose=0)\n",
    "\n",
    "# 4. Prediction\n",
    "\n",
    "y_predicts3 = model3.predict(test_X)\n",
    "\n",
    "# 5. Visualization\n",
    "\n",
    "PredictPlot(train_X, train_y, test_X, test_y, y_predicts3)\n",
    "\n",
    "# 6. Calculate the errors\n",
    "\n",
    "mae3 = calculate_mae(test_X, y_predicts3)\n",
    "mse3 = calculate_mse(test_X, y_predicts3)\n",
    "print(mae3, mse3)"
   ]
  },
  {
   "cell_type": "markdown",
   "id": "4ad5dd33",
   "metadata": {},
   "source": [
    "## Framing the Prediction"
   ]
  },
  {
   "cell_type": "code",
   "execution_count": 50,
   "id": "39bcd292",
   "metadata": {},
   "outputs": [],
   "source": [
    "import pandas as pd"
   ]
  },
  {
   "cell_type": "code",
   "execution_count": 74,
   "id": "1e958627",
   "metadata": {},
   "outputs": [],
   "source": [
    "df = pd.DataFrame({\n",
    "    \"Model\" : [\"Model1\", \"Model2\" , \"Model3\"],\n",
    "    \"Mean_Absolute_Error\" : [np.array(mae1), np.array(mae2) ,np.array(mae3)],\n",
    "    \"Mean_Square_Error\"   : [np.array(mse1), np.array(mse2) ,np.array(mse3)]\n",
    "})"
   ]
  },
  {
   "cell_type": "code",
   "execution_count": 76,
   "id": "d3401f37",
   "metadata": {},
   "outputs": [
    {
     "data": {
      "text/html": [
       "<div>\n",
       "<style scoped>\n",
       "    .dataframe tbody tr th:only-of-type {\n",
       "        vertical-align: middle;\n",
       "    }\n",
       "\n",
       "    .dataframe tbody tr th {\n",
       "        vertical-align: top;\n",
       "    }\n",
       "\n",
       "    .dataframe thead th {\n",
       "        text-align: right;\n",
       "    }\n",
       "</style>\n",
       "<table border=\"1\" class=\"dataframe\">\n",
       "  <thead>\n",
       "    <tr style=\"text-align: right;\">\n",
       "      <th></th>\n",
       "      <th>Model</th>\n",
       "      <th>Mean_Absolute_Error</th>\n",
       "      <th>Mean_Square_Error</th>\n",
       "    </tr>\n",
       "  </thead>\n",
       "  <tbody>\n",
       "    <tr>\n",
       "      <th>0</th>\n",
       "      <td>Model1</td>\n",
       "      <td>61.973534</td>\n",
       "      <td>3922.711</td>\n",
       "    </tr>\n",
       "    <tr>\n",
       "      <th>1</th>\n",
       "      <td>Model2</td>\n",
       "      <td>158.57541</td>\n",
       "      <td>25678.12</td>\n",
       "    </tr>\n",
       "    <tr>\n",
       "      <th>2</th>\n",
       "      <td>Model3</td>\n",
       "      <td>149.9919</td>\n",
       "      <td>22977.348</td>\n",
       "    </tr>\n",
       "  </tbody>\n",
       "</table>\n",
       "</div>"
      ],
      "text/plain": [
       "    Model Mean_Absolute_Error Mean_Square_Error\n",
       "0  Model1           61.973534          3922.711\n",
       "1  Model2           158.57541          25678.12\n",
       "2  Model3            149.9919         22977.348"
      ]
     },
     "execution_count": 76,
     "metadata": {},
     "output_type": "execute_result"
    }
   ],
   "source": [
    "df"
   ]
  },
  {
   "cell_type": "code",
   "execution_count": null,
   "id": "9f979486",
   "metadata": {},
   "outputs": [],
   "source": []
  }
 ],
 "metadata": {
  "kernelspec": {
   "display_name": "Python 3 (ipykernel)",
   "language": "python",
   "name": "python3"
  },
  "language_info": {
   "codemirror_mode": {
    "name": "ipython",
    "version": 3
   },
   "file_extension": ".py",
   "mimetype": "text/x-python",
   "name": "python",
   "nbconvert_exporter": "python",
   "pygments_lexer": "ipython3",
   "version": "3.11.0"
  }
 },
 "nbformat": 4,
 "nbformat_minor": 5
}
