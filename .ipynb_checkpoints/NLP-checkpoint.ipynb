{
 "cells": [
  {
   "cell_type": "code",
   "execution_count": 1,
   "id": "bcce2eac",
   "metadata": {},
   "outputs": [
    {
     "data": {
      "text/html": [
       "<style>.container { width:96% !important; }</style>"
      ],
      "text/plain": [
       "<IPython.core.display.HTML object>"
      ]
     },
     "metadata": {},
     "output_type": "display_data"
    }
   ],
   "source": [
    "from IPython.display import display, HTML\n",
    "display(HTML(\"<style>.container { width:96% !important; }</style>\"))"
   ]
  },
  {
   "cell_type": "code",
   "execution_count": 2,
   "id": "97dd4dac",
   "metadata": {},
   "outputs": [],
   "source": [
    "import datetime"
   ]
  },
  {
   "cell_type": "code",
   "execution_count": 3,
   "id": "c72e6f32",
   "metadata": {},
   "outputs": [
    {
     "name": "stdout",
     "output_type": "stream",
     "text": [
      "Started at :  2023-11-05 23:13:51.271983\n"
     ]
    }
   ],
   "source": [
    "print(\"Started at : \", datetime.datetime.now())"
   ]
  },
  {
   "cell_type": "code",
   "execution_count": 4,
   "id": "98b2202d",
   "metadata": {},
   "outputs": [],
   "source": [
    "import requests\n",
    "from zipfile import ZipFile"
   ]
  },
  {
   "cell_type": "code",
   "execution_count": 5,
   "id": "946f4158",
   "metadata": {},
   "outputs": [],
   "source": [
    "# d = requests.get(\"https://storage.googleapis.com/ztm_tf_course/nlp_getting_started.zip\")"
   ]
  },
  {
   "cell_type": "code",
   "execution_count": 6,
   "id": "b6165759",
   "metadata": {},
   "outputs": [],
   "source": [
    "# with open(\"data/getting_started.zip\", \"wb\") as f:\n",
    "#     f.write(d.content)"
   ]
  },
  {
   "cell_type": "code",
   "execution_count": 7,
   "id": "10770b07",
   "metadata": {},
   "outputs": [],
   "source": [
    "# with ZipFile(\"data/getting_started.zip\", 'r') as z:\n",
    "#     z.extractall(\"data/\")"
   ]
  },
  {
   "cell_type": "code",
   "execution_count": 8,
   "id": "18230368",
   "metadata": {},
   "outputs": [],
   "source": [
    "import pandas as pd"
   ]
  },
  {
   "cell_type": "code",
   "execution_count": 9,
   "id": "7cbd01ff",
   "metadata": {},
   "outputs": [],
   "source": [
    "train_df = pd.read_csv(\"data/train.csv\")\n",
    "test_df = pd.read_csv(\"data/test.csv\")"
   ]
  },
  {
   "cell_type": "code",
   "execution_count": 10,
   "id": "4890859d",
   "metadata": {},
   "outputs": [],
   "source": [
    "import numpy as np\n",
    "import random\n",
    "random.seed(42)\n",
    "np.random.seed(42)"
   ]
  },
  {
   "cell_type": "code",
   "execution_count": 11,
   "id": "b6387b67",
   "metadata": {},
   "outputs": [
    {
     "data": {
      "text/plain": [
       "((7613, 5), (3263, 4))"
      ]
     },
     "execution_count": 11,
     "metadata": {},
     "output_type": "execute_result"
    }
   ],
   "source": [
    "train_df.shape, test_df.shape"
   ]
  },
  {
   "cell_type": "code",
   "execution_count": 12,
   "id": "46808c6b",
   "metadata": {},
   "outputs": [],
   "source": [
    "train_df_shuffled = train_df.sample(frac=1, random_state=42)"
   ]
  },
  {
   "cell_type": "code",
   "execution_count": 13,
   "id": "6056e5ae",
   "metadata": {},
   "outputs": [
    {
     "data": {
      "text/html": [
       "<div>\n",
       "<style scoped>\n",
       "    .dataframe tbody tr th:only-of-type {\n",
       "        vertical-align: middle;\n",
       "    }\n",
       "\n",
       "    .dataframe tbody tr th {\n",
       "        vertical-align: top;\n",
       "    }\n",
       "\n",
       "    .dataframe thead th {\n",
       "        text-align: right;\n",
       "    }\n",
       "</style>\n",
       "<table border=\"1\" class=\"dataframe\">\n",
       "  <thead>\n",
       "    <tr style=\"text-align: right;\">\n",
       "      <th></th>\n",
       "      <th>id</th>\n",
       "      <th>keyword</th>\n",
       "      <th>location</th>\n",
       "      <th>text</th>\n",
       "      <th>target</th>\n",
       "    </tr>\n",
       "  </thead>\n",
       "  <tbody>\n",
       "    <tr>\n",
       "      <th>2644</th>\n",
       "      <td>3796</td>\n",
       "      <td>destruction</td>\n",
       "      <td>NaN</td>\n",
       "      <td>So you have a new weapon that can cause un-ima...</td>\n",
       "      <td>1</td>\n",
       "    </tr>\n",
       "    <tr>\n",
       "      <th>2227</th>\n",
       "      <td>3185</td>\n",
       "      <td>deluge</td>\n",
       "      <td>NaN</td>\n",
       "      <td>The f$&amp;amp;@ing things I do for #GISHWHES Just...</td>\n",
       "      <td>0</td>\n",
       "    </tr>\n",
       "    <tr>\n",
       "      <th>5448</th>\n",
       "      <td>7769</td>\n",
       "      <td>police</td>\n",
       "      <td>UK</td>\n",
       "      <td>DT @georgegalloway: RT @Galloway4Mayor: ÛÏThe...</td>\n",
       "      <td>1</td>\n",
       "    </tr>\n",
       "    <tr>\n",
       "      <th>132</th>\n",
       "      <td>191</td>\n",
       "      <td>aftershock</td>\n",
       "      <td>NaN</td>\n",
       "      <td>Aftershock back to school kick off was great. ...</td>\n",
       "      <td>0</td>\n",
       "    </tr>\n",
       "    <tr>\n",
       "      <th>6845</th>\n",
       "      <td>9810</td>\n",
       "      <td>trauma</td>\n",
       "      <td>Montgomery County, MD</td>\n",
       "      <td>in response to trauma Children of Addicts deve...</td>\n",
       "      <td>0</td>\n",
       "    </tr>\n",
       "  </tbody>\n",
       "</table>\n",
       "</div>"
      ],
      "text/plain": [
       "        id      keyword               location  \\\n",
       "2644  3796  destruction                    NaN   \n",
       "2227  3185       deluge                    NaN   \n",
       "5448  7769       police                     UK   \n",
       "132    191   aftershock                    NaN   \n",
       "6845  9810       trauma  Montgomery County, MD   \n",
       "\n",
       "                                                   text  target  \n",
       "2644  So you have a new weapon that can cause un-ima...       1  \n",
       "2227  The f$&amp;@ing things I do for #GISHWHES Just...       0  \n",
       "5448  DT @georgegalloway: RT @Galloway4Mayor: ÛÏThe...       1  \n",
       "132   Aftershock back to school kick off was great. ...       0  \n",
       "6845  in response to trauma Children of Addicts deve...       0  "
      ]
     },
     "execution_count": 13,
     "metadata": {},
     "output_type": "execute_result"
    }
   ],
   "source": [
    "train_df_shuffled.head()"
   ]
  },
  {
   "cell_type": "code",
   "execution_count": 14,
   "id": "43946f27",
   "metadata": {},
   "outputs": [
    {
     "data": {
      "text/html": [
       "<div>\n",
       "<style scoped>\n",
       "    .dataframe tbody tr th:only-of-type {\n",
       "        vertical-align: middle;\n",
       "    }\n",
       "\n",
       "    .dataframe tbody tr th {\n",
       "        vertical-align: top;\n",
       "    }\n",
       "\n",
       "    .dataframe thead th {\n",
       "        text-align: right;\n",
       "    }\n",
       "</style>\n",
       "<table border=\"1\" class=\"dataframe\">\n",
       "  <thead>\n",
       "    <tr style=\"text-align: right;\">\n",
       "      <th></th>\n",
       "      <th>id</th>\n",
       "      <th>keyword</th>\n",
       "      <th>location</th>\n",
       "      <th>text</th>\n",
       "    </tr>\n",
       "  </thead>\n",
       "  <tbody>\n",
       "    <tr>\n",
       "      <th>0</th>\n",
       "      <td>0</td>\n",
       "      <td>NaN</td>\n",
       "      <td>NaN</td>\n",
       "      <td>Just happened a terrible car crash</td>\n",
       "    </tr>\n",
       "    <tr>\n",
       "      <th>1</th>\n",
       "      <td>2</td>\n",
       "      <td>NaN</td>\n",
       "      <td>NaN</td>\n",
       "      <td>Heard about #earthquake is different cities, s...</td>\n",
       "    </tr>\n",
       "    <tr>\n",
       "      <th>2</th>\n",
       "      <td>3</td>\n",
       "      <td>NaN</td>\n",
       "      <td>NaN</td>\n",
       "      <td>there is a forest fire at spot pond, geese are...</td>\n",
       "    </tr>\n",
       "    <tr>\n",
       "      <th>3</th>\n",
       "      <td>9</td>\n",
       "      <td>NaN</td>\n",
       "      <td>NaN</td>\n",
       "      <td>Apocalypse lighting. #Spokane #wildfires</td>\n",
       "    </tr>\n",
       "    <tr>\n",
       "      <th>4</th>\n",
       "      <td>11</td>\n",
       "      <td>NaN</td>\n",
       "      <td>NaN</td>\n",
       "      <td>Typhoon Soudelor kills 28 in China and Taiwan</td>\n",
       "    </tr>\n",
       "  </tbody>\n",
       "</table>\n",
       "</div>"
      ],
      "text/plain": [
       "   id keyword location                                               text\n",
       "0   0     NaN      NaN                 Just happened a terrible car crash\n",
       "1   2     NaN      NaN  Heard about #earthquake is different cities, s...\n",
       "2   3     NaN      NaN  there is a forest fire at spot pond, geese are...\n",
       "3   9     NaN      NaN           Apocalypse lighting. #Spokane #wildfires\n",
       "4  11     NaN      NaN      Typhoon Soudelor kills 28 in China and Taiwan"
      ]
     },
     "execution_count": 14,
     "metadata": {},
     "output_type": "execute_result"
    }
   ],
   "source": [
    "test_df.head()"
   ]
  },
  {
   "cell_type": "code",
   "execution_count": 15,
   "id": "ce5ad006",
   "metadata": {},
   "outputs": [
    {
     "data": {
      "text/plain": [
       "target\n",
       "0    4342\n",
       "1    3271\n",
       "Name: count, dtype: int64"
      ]
     },
     "execution_count": 15,
     "metadata": {},
     "output_type": "execute_result"
    }
   ],
   "source": [
    "train_df['target'].value_counts()"
   ]
  },
  {
   "cell_type": "code",
   "execution_count": 16,
   "id": "cf76977a",
   "metadata": {},
   "outputs": [
    {
     "name": "stdout",
     "output_type": "stream",
     "text": [
      "\u001b[0mLabel :  \u001b[1m0\n",
      "\u001b[0mText :  \u001b[1mWhy did God order obliteration of ancient Canaanites? http://t.co/pKKcdWjyg0 via @worldnetdaily\n",
      "\n",
      "\u001b[0mLabel :  \u001b[1m0\n",
      "\u001b[0mText :  \u001b[1mFriday supposed to be a happy day but it's a bloody friday hah zzzz\n",
      "\n",
      "\u001b[0mLabel :  \u001b[1m1\n",
      "\u001b[0mText :  \u001b[1mTwelve feared killed in Pakistani air ambulance helicopter crash http://t.co/X2Qsjod40u #worldnews\n",
      "\n",
      "\u001b[0mLabel :  \u001b[1m0\n",
      "\u001b[0mText :  \u001b[1mSinkhole Selfies: You Wont Believe What's In The Brooklyn Sinkhole!: \n",
      "        Sinkhole Sel... http://t.co/OYY9MGW7HN @hinterestin #funny\n",
      "\n",
      "\u001b[0mLabel :  \u001b[1m0\n",
      "\u001b[0mText :  \u001b[1mWhy are you deluged with low self-image? Take the quiz: http://t.co/1PFlM532mG http://t.co/58qruGZvg0\n",
      "\n",
      "\u001b[0mLabel :  \u001b[1m0\n",
      "\u001b[0mText :  \u001b[1m#NP Metallica - Damage Inc\n",
      "\n",
      "\u001b[0mLabel :  \u001b[1m1\n",
      "\u001b[0mText :  \u001b[1m1 ÛÒ The bug that almost crashed the Euro - http://t.co/KgkZ50Q8TK\n",
      "\n",
      "\u001b[0mLabel :  \u001b[1m1\n",
      "\u001b[0mText :  \u001b[1m70th anniversary of Hiroshima atomic bombing marked  http://t.co/1mGvd4x5Oe\n",
      "\n",
      "\u001b[0mLabel :  \u001b[1m1\n",
      "\u001b[0mText :  \u001b[1mOil and Gas Exploration Takes Seismic Shift in Gabon to Somalia - Bloomberg http://t.co/bEKrPjnYHs #??????? #Somalia\n",
      "\n",
      "\u001b[0mLabel :  \u001b[1m0\n",
      "\u001b[0mText :  \u001b[1mI love the cotton candy blizzard??\n",
      "\n"
     ]
    }
   ],
   "source": [
    "for _ in range(10):\n",
    "    random_no = random.randint(0, len(train_df)-1)\n",
    "    print(\"\\033[0mLabel : \",f\"\\033[1m{train_df_shuffled.target[random_no]}\")\n",
    "    print(f\"\\033[0mText : \" , f\"\\033[1m{train_df_shuffled.text[random_no]}\")\n",
    "    print(\"\")"
   ]
  },
  {
   "cell_type": "markdown",
   "id": "d2e49046",
   "metadata": {},
   "source": [
    " - `Diaster - 1`\n",
    "\n",
    " - `Not Real Diaster - 0`"
   ]
  },
  {
   "cell_type": "markdown",
   "id": "2c8b82ba",
   "metadata": {},
   "source": [
    "## Data Spliting"
   ]
  },
  {
   "cell_type": "code",
   "execution_count": 17,
   "id": "4e5ba6a9",
   "metadata": {},
   "outputs": [],
   "source": [
    "from sklearn.model_selection import train_test_split"
   ]
  },
  {
   "cell_type": "code",
   "execution_count": 18,
   "id": "ca1c8a84",
   "metadata": {},
   "outputs": [],
   "source": [
    "train_data , val_data , train_label , val_label = train_test_split \\\n",
    "                                                    (\n",
    "                                                    train_df_shuffled['text'].to_numpy(),\n",
    "                                                    train_df_shuffled['target'].to_numpy(),\n",
    "                                                    test_size=0.1,\n",
    "                                                    random_state=42\n",
    "                                                    )"
   ]
  },
  {
   "cell_type": "code",
   "execution_count": 19,
   "id": "e6914022",
   "metadata": {},
   "outputs": [
    {
     "name": "stdout",
     "output_type": "stream",
     "text": [
      "6851 762 6851 762\n"
     ]
    }
   ],
   "source": [
    "print(len(train_data), len(val_data), len(train_label), len(val_label))"
   ]
  },
  {
   "cell_type": "code",
   "execution_count": 20,
   "id": "f4cc510f",
   "metadata": {},
   "outputs": [
    {
     "data": {
      "text/plain": [
       "(array(['@mogacola @zamtriossu i screamed after hitting tweet',\n",
       "        'Imagine getting flattened by Kurt Zouma',\n",
       "        '@Gurmeetramrahim #MSGDoing111WelfareWorks Green S welfare force ke appx 65000 members har time disaster victim ki help ke liye tyar hai....',\n",
       "        \"@shakjn @C7 @Magnums im shaking in fear he's gonna hack the planet\",\n",
       "        'Somehow find you and I collide http://t.co/Ee8RpOahPk',\n",
       "        '@EvaHanderek @MarleyKnysh great times until the bus driver held us hostage in the mall parking lot lmfao',\n",
       "        'destroy the free fandom honestly',\n",
       "        'Weapons stolen from National Guard Armory in New Albany still missing #Gunsense http://t.co/lKNU8902JE',\n",
       "        '@wfaaweather Pete when will the heat wave pass? Is it really going to be mid month? Frisco Boy Scouts have a canoe trip in Okla.',\n",
       "        'Patient-reported outcomes in long-term survivors of metastatic colorectal cancer - British Journal of Surgery http://t.co/5Yl4DC1Tqt'],\n",
       "       dtype=object),\n",
       " array([0, 0, 1, 0, 0, 1, 1, 0, 1, 1], dtype=int64))"
      ]
     },
     "execution_count": 20,
     "metadata": {},
     "output_type": "execute_result"
    }
   ],
   "source": [
    "train_data[:10], train_label[:10]"
   ]
  },
  {
   "cell_type": "code",
   "execution_count": 21,
   "id": "8733a315",
   "metadata": {},
   "outputs": [],
   "source": [
    "import tensorflow as tf\n",
    "from tensorflow.keras.layers import TextVectorization"
   ]
  },
  {
   "cell_type": "code",
   "execution_count": 22,
   "id": "6bc7252b",
   "metadata": {},
   "outputs": [],
   "source": [
    "text_vectorizer = TextVectorization(\n",
    "    max_tokens=None,\n",
    "    standardize='lower_and_strip_punctuation',\n",
    "    split='whitespace',\n",
    "    ngrams=None,\n",
    "    output_mode='int',\n",
    "    vocabulary=None)"
   ]
  },
  {
   "cell_type": "code",
   "execution_count": 23,
   "id": "dfc4efe4",
   "metadata": {},
   "outputs": [
    {
     "data": {
      "text/plain": [
       "['', '[UNK]']"
      ]
     },
     "execution_count": 23,
     "metadata": {},
     "output_type": "execute_result"
    }
   ],
   "source": [
    "text_vectorizer.get_vocabulary()"
   ]
  },
  {
   "cell_type": "code",
   "execution_count": 24,
   "id": "91e7ff30",
   "metadata": {},
   "outputs": [
    {
     "data": {
      "text/plain": [
       "'7 6 20 12 7 17 5 13 25 15 19 11 20 22 9 24 19 6 4 12 8 6 17 17 7 18 19 26 21 10 27 14 5 7 11 7 15 6 '"
      ]
     },
     "execution_count": 24,
     "metadata": {},
     "output_type": "execute_result"
    }
   ],
   "source": [
    "' '.join([str(len(_.split(\" \"))) for _ in train_data])[:100]"
   ]
  },
  {
   "cell_type": "code",
   "execution_count": 25,
   "id": "4dce8802",
   "metadata": {},
   "outputs": [
    {
     "data": {
      "text/plain": [
       "15"
      ]
     },
     "execution_count": 25,
     "metadata": {},
     "output_type": "execute_result"
    }
   ],
   "source": [
    "int(np.ceil(sum(len(_.split(' ')) for _ in train_data ) / len(train_data)))"
   ]
  },
  {
   "cell_type": "code",
   "execution_count": 26,
   "id": "124684a2",
   "metadata": {},
   "outputs": [],
   "source": [
    "max_tokens = 15000\n",
    "max_length = int(np.ceil(sum(len(_.split(' ')) for _ in train_data ) / len(train_data)))"
   ]
  },
  {
   "cell_type": "code",
   "execution_count": 27,
   "id": "0def40fc",
   "metadata": {},
   "outputs": [],
   "source": [
    "text_vectorizer = TextVectorization(max_tokens=max_tokens,\n",
    "                                    output_mode='int',\n",
    "                                   output_sequence_length=max_length)"
   ]
  },
  {
   "cell_type": "code",
   "execution_count": 28,
   "id": "bbdafdf3",
   "metadata": {},
   "outputs": [
    {
     "data": {
      "text/plain": [
       "['', '[UNK]']"
      ]
     },
     "execution_count": 28,
     "metadata": {},
     "output_type": "execute_result"
    }
   ],
   "source": [
    "text_vectorizer.get_vocabulary()"
   ]
  },
  {
   "cell_type": "code",
   "execution_count": 29,
   "id": "9a70cc31",
   "metadata": {},
   "outputs": [],
   "source": [
    "text_vectorizer.adapt(train_data)"
   ]
  },
  {
   "cell_type": "code",
   "execution_count": 30,
   "id": "bdfdc3f0",
   "metadata": {},
   "outputs": [
    {
     "data": {
      "text/plain": [
       "<tf.Tensor: shape=(1, 15), dtype=int64, numpy=\n",
       "array([[ 290,  232,   29,  244,    4, 3744,    0,    0,    0,    0,    0,\n",
       "           0,    0,    0,    0]], dtype=int64)>"
      ]
     },
     "execution_count": 30,
     "metadata": {},
     "output_type": "execute_result"
    }
   ],
   "source": [
    "sample_data = \"Earthquake & flood just hit in Indonesia\"\n",
    "text_vectorizer([sample_data])"
   ]
  },
  {
   "cell_type": "code",
   "execution_count": 31,
   "id": "374ddd90",
   "metadata": {},
   "outputs": [],
   "source": [
    "# Let's Visualize the data \n",
    "def show_rand_data(train_data, text_vectorizer):\n",
    "    _ = np.random.choice(train_data)\n",
    "    print(f\"Text :  {_}\\n\")\n",
    "    print((text_vectorizer([_])))\n",
    "    "
   ]
  },
  {
   "cell_type": "code",
   "execution_count": 32,
   "id": "f6377f1a",
   "metadata": {},
   "outputs": [
    {
     "name": "stdout",
     "output_type": "stream",
     "text": [
      "Text :  FUCK NUCLEAR WEAPON\n",
      "\n",
      "tf.Tensor([[349 105 263   0   0   0   0   0   0   0   0   0   0   0   0]], shape=(1, 15), dtype=int64)\n"
     ]
    }
   ],
   "source": [
    "show_rand_data(train_data, text_vectorizer)"
   ]
  },
  {
   "cell_type": "code",
   "execution_count": 33,
   "id": "5020daf7",
   "metadata": {},
   "outputs": [],
   "source": [
    "wordlist = [_ for _ in text_vectorizer.get_vocabulary()]"
   ]
  },
  {
   "cell_type": "code",
   "execution_count": 34,
   "id": "10116d9a",
   "metadata": {},
   "outputs": [
    {
     "data": {
      "text/plain": [
       "(['', '[UNK]', 'the', 'a', 'in', 'to', 'of', 'and', 'i', 'is'],\n",
       " ['httptcoe9d9lk5fdw',\n",
       "  'httptcoe981dgskab',\n",
       "  'httptcoe90j3vjolc',\n",
       "  'httptcoe84ifmcczn',\n",
       "  'httptcoe7ojhpdfg2',\n",
       "  'httptcoe7fn5g5ruu',\n",
       "  'httptcoe65v80fcus',\n",
       "  'httptcoe61x9y65qd',\n",
       "  'httptcoe5cns6ufpa',\n",
       "  'httptcoe4ydbm4dx6'])"
      ]
     },
     "execution_count": 34,
     "metadata": {},
     "output_type": "execute_result"
    }
   ],
   "source": [
    "wordlist[:10], wordlist[-10:]"
   ]
  },
  {
   "cell_type": "code",
   "execution_count": 35,
   "id": "a0385f9f",
   "metadata": {},
   "outputs": [
    {
     "data": {
      "text/plain": [
       "15000"
      ]
     },
     "execution_count": 35,
     "metadata": {},
     "output_type": "execute_result"
    }
   ],
   "source": [
    "len(wordlist)"
   ]
  },
  {
   "cell_type": "markdown",
   "id": "fc5174ab",
   "metadata": {},
   "source": [
    "## Embedding Layer"
   ]
  },
  {
   "cell_type": "code",
   "execution_count": 36,
   "id": "f4e833c4",
   "metadata": {},
   "outputs": [],
   "source": [
    "## Embedding is just a matrix which values can be updated during learning.\n",
    "# In case of Vectorization, the values are static, we can't update the values while learning"
   ]
  },
  {
   "cell_type": "markdown",
   "id": "570bda0b",
   "metadata": {},
   "source": [
    "` Embedding Layer ` => True positive int(index) into dense vector\n",
    "\n",
    "  -  `input_dim` : `len(text_vectorizer.get_vocabulary())`\n",
    "  -  `output_dim` : length of output dimension.\n",
    "  -  `embedding_initializer` : `uniform` - randomly initializes the vector with uniform values\n",
    "  -   `input_length` : avg of sum of len of all sentences\n",
    "  "
   ]
  },
  {
   "cell_type": "code",
   "execution_count": 37,
   "id": "6b9dc207",
   "metadata": {},
   "outputs": [],
   "source": [
    "from tensorflow.keras import layers\n",
    "tf.random.set_seed(42)"
   ]
  },
  {
   "cell_type": "code",
   "execution_count": 38,
   "id": "27a49293",
   "metadata": {},
   "outputs": [],
   "source": [
    "embedding = layers.Embedding(input_dim=len(text_vectorizer.get_vocabulary()),\n",
    "                            output_dim= 512,\n",
    "                            embeddings_initializer='uniform',\n",
    "                            input_length=(max_length))"
   ]
  },
  {
   "cell_type": "code",
   "execution_count": 39,
   "id": "456cce91",
   "metadata": {},
   "outputs": [],
   "source": [
    "embedding.build(input_shape=len(text_vectorizer.get_vocabulary()))"
   ]
  },
  {
   "cell_type": "code",
   "execution_count": 40,
   "id": "64dc2f0d",
   "metadata": {},
   "outputs": [
    {
     "data": {
      "text/plain": [
       "<tf.Tensor: shape=(20,), dtype=float32, numpy=\n",
       "array([ 0.02777939,  0.02385018, -0.00165467,  0.03224889,  0.03659432,\n",
       "        0.02667179,  0.03552976, -0.02964037,  0.03442205, -0.02515832,\n",
       "       -0.04503341, -0.04819641,  0.02669868, -0.01960029,  0.01672551,\n",
       "        0.00703441, -0.04624754, -0.03160368,  0.02162139, -0.04893842],\n",
       "      dtype=float32)>"
      ]
     },
     "execution_count": 40,
     "metadata": {},
     "output_type": "execute_result"
    }
   ],
   "source": [
    "embedding.embeddings[0][:20]"
   ]
  },
  {
   "cell_type": "code",
   "execution_count": 41,
   "id": "fba2aef7",
   "metadata": {},
   "outputs": [],
   "source": [
    "from abc import ABC"
   ]
  },
  {
   "cell_type": "code",
   "execution_count": 42,
   "id": "2930e503",
   "metadata": {},
   "outputs": [],
   "source": [
    "class RandomData(ABC):\n",
    "    def show_rand_data(self,text_vectorizer=None, embedding=None):\n",
    "        self.text_vectorizer=text_vectorizer\n",
    "        self.embedding= embedding"
   ]
  },
  {
   "cell_type": "code",
   "execution_count": 43,
   "id": "5cda1368",
   "metadata": {},
   "outputs": [],
   "source": [
    "class ShowRandomData(RandomData):\n",
    "    def show_random_data(self, text_vectorizer, embedding,data):\n",
    "        super().show_rand_data(text_vectorizer, embedding)\n",
    "        self.train_data = data\n",
    "        no = random.randint(0, len(self.train_data) - 1)\n",
    "        for _ in range(1):\n",
    "            print(self.train_data[no])\n",
    "            print(self.embedding(self.text_vectorizer([self.train_data[no]])))\n",
    "            print(\"\")\n",
    "    "
   ]
  },
  {
   "cell_type": "code",
   "execution_count": 44,
   "id": "c16bc01e",
   "metadata": {},
   "outputs": [],
   "source": [
    "s = ShowRandomData()"
   ]
  },
  {
   "cell_type": "code",
   "execution_count": 45,
   "id": "b86ec4e2",
   "metadata": {},
   "outputs": [
    {
     "name": "stdout",
     "output_type": "stream",
     "text": [
      "Oh my heart racing And my temperature is blazing through the roof #VideoVeranoMTV Fifth Harmony\n",
      "tf.Tensor(\n",
      "[[[ 0.02549665 -0.0457195  -0.03540735 ...  0.00638877 -0.01105022\n",
      "    0.03491643]\n",
      "  [ 0.02885299  0.00518136  0.03004831 ... -0.01086997  0.00753457\n",
      "   -0.01003518]\n",
      "  [ 0.02531621 -0.04137992 -0.03808884 ... -0.03018323 -0.01139037\n",
      "   -0.01405187]\n",
      "  ...\n",
      "  [-0.02078965  0.007322    0.01242671 ... -0.01154436 -0.04556436\n",
      "    0.02871147]\n",
      "  [-0.02016583  0.01078612  0.01618109 ... -0.0485405  -0.0353484\n",
      "    0.04574767]\n",
      "  [-0.02811948 -0.04412038  0.02149377 ...  0.02768054 -0.04858385\n",
      "   -0.02722802]]], shape=(1, 15, 512), dtype=float32)\n",
      "\n"
     ]
    }
   ],
   "source": [
    "s.show_random_data(text_vectorizer=text_vectorizer, embedding=embedding, data=train_data)"
   ]
  },
  {
   "cell_type": "code",
   "execution_count": 46,
   "id": "e23ba22b",
   "metadata": {},
   "outputs": [],
   "source": [
    "from sklearn.feature_extraction.text import TfidfVectorizer\n",
    "from sklearn.naive_bayes import MultinomialNB\n",
    "from sklearn.pipeline import Pipeline"
   ]
  },
  {
   "cell_type": "markdown",
   "id": "bc39fe60",
   "metadata": {},
   "source": [
    "## Naive Bayes Model"
   ]
  },
  {
   "cell_type": "code",
   "execution_count": 47,
   "id": "9b0b87b0",
   "metadata": {},
   "outputs": [],
   "source": [
    "model0 = Pipeline([\n",
    "                    (\"tfid\", TfidfVectorizer()),\n",
    "                    (\"clf\", MultinomialNB() )  \n",
    "                 ])"
   ]
  },
  {
   "cell_type": "code",
   "execution_count": 48,
   "id": "b96677ae",
   "metadata": {},
   "outputs": [
    {
     "name": "stdout",
     "output_type": "stream",
     "text": [
      "Pipeline(steps=[('tfid', TfidfVectorizer()), ('clf', MultinomialNB())])\n"
     ]
    }
   ],
   "source": [
    "print(model0)"
   ]
  },
  {
   "cell_type": "code",
   "execution_count": 49,
   "id": "d5155589",
   "metadata": {},
   "outputs": [
    {
     "data": {
      "text/html": [
       "<style>#sk-container-id-1 {color: black;background-color: white;}#sk-container-id-1 pre{padding: 0;}#sk-container-id-1 div.sk-toggleable {background-color: white;}#sk-container-id-1 label.sk-toggleable__label {cursor: pointer;display: block;width: 100%;margin-bottom: 0;padding: 0.3em;box-sizing: border-box;text-align: center;}#sk-container-id-1 label.sk-toggleable__label-arrow:before {content: \"▸\";float: left;margin-right: 0.25em;color: #696969;}#sk-container-id-1 label.sk-toggleable__label-arrow:hover:before {color: black;}#sk-container-id-1 div.sk-estimator:hover label.sk-toggleable__label-arrow:before {color: black;}#sk-container-id-1 div.sk-toggleable__content {max-height: 0;max-width: 0;overflow: hidden;text-align: left;background-color: #f0f8ff;}#sk-container-id-1 div.sk-toggleable__content pre {margin: 0.2em;color: black;border-radius: 0.25em;background-color: #f0f8ff;}#sk-container-id-1 input.sk-toggleable__control:checked~div.sk-toggleable__content {max-height: 200px;max-width: 100%;overflow: auto;}#sk-container-id-1 input.sk-toggleable__control:checked~label.sk-toggleable__label-arrow:before {content: \"▾\";}#sk-container-id-1 div.sk-estimator input.sk-toggleable__control:checked~label.sk-toggleable__label {background-color: #d4ebff;}#sk-container-id-1 div.sk-label input.sk-toggleable__control:checked~label.sk-toggleable__label {background-color: #d4ebff;}#sk-container-id-1 input.sk-hidden--visually {border: 0;clip: rect(1px 1px 1px 1px);clip: rect(1px, 1px, 1px, 1px);height: 1px;margin: -1px;overflow: hidden;padding: 0;position: absolute;width: 1px;}#sk-container-id-1 div.sk-estimator {font-family: monospace;background-color: #f0f8ff;border: 1px dotted black;border-radius: 0.25em;box-sizing: border-box;margin-bottom: 0.5em;}#sk-container-id-1 div.sk-estimator:hover {background-color: #d4ebff;}#sk-container-id-1 div.sk-parallel-item::after {content: \"\";width: 100%;border-bottom: 1px solid gray;flex-grow: 1;}#sk-container-id-1 div.sk-label:hover label.sk-toggleable__label {background-color: #d4ebff;}#sk-container-id-1 div.sk-serial::before {content: \"\";position: absolute;border-left: 1px solid gray;box-sizing: border-box;top: 0;bottom: 0;left: 50%;z-index: 0;}#sk-container-id-1 div.sk-serial {display: flex;flex-direction: column;align-items: center;background-color: white;padding-right: 0.2em;padding-left: 0.2em;position: relative;}#sk-container-id-1 div.sk-item {position: relative;z-index: 1;}#sk-container-id-1 div.sk-parallel {display: flex;align-items: stretch;justify-content: center;background-color: white;position: relative;}#sk-container-id-1 div.sk-item::before, #sk-container-id-1 div.sk-parallel-item::before {content: \"\";position: absolute;border-left: 1px solid gray;box-sizing: border-box;top: 0;bottom: 0;left: 50%;z-index: -1;}#sk-container-id-1 div.sk-parallel-item {display: flex;flex-direction: column;z-index: 1;position: relative;background-color: white;}#sk-container-id-1 div.sk-parallel-item:first-child::after {align-self: flex-end;width: 50%;}#sk-container-id-1 div.sk-parallel-item:last-child::after {align-self: flex-start;width: 50%;}#sk-container-id-1 div.sk-parallel-item:only-child::after {width: 0;}#sk-container-id-1 div.sk-dashed-wrapped {border: 1px dashed gray;margin: 0 0.4em 0.5em 0.4em;box-sizing: border-box;padding-bottom: 0.4em;background-color: white;}#sk-container-id-1 div.sk-label label {font-family: monospace;font-weight: bold;display: inline-block;line-height: 1.2em;}#sk-container-id-1 div.sk-label-container {text-align: center;}#sk-container-id-1 div.sk-container {/* jupyter's `normalize.less` sets `[hidden] { display: none; }` but bootstrap.min.css set `[hidden] { display: none !important; }` so we also need the `!important` here to be able to override the default hidden behavior on the sphinx rendered scikit-learn.org. See: https://github.com/scikit-learn/scikit-learn/issues/21755 */display: inline-block !important;position: relative;}#sk-container-id-1 div.sk-text-repr-fallback {display: none;}</style><div id=\"sk-container-id-1\" class=\"sk-top-container\"><div class=\"sk-text-repr-fallback\"><pre>Pipeline(steps=[(&#x27;tfid&#x27;, TfidfVectorizer()), (&#x27;clf&#x27;, MultinomialNB())])</pre><b>In a Jupyter environment, please rerun this cell to show the HTML representation or trust the notebook. <br />On GitHub, the HTML representation is unable to render, please try loading this page with nbviewer.org.</b></div><div class=\"sk-container\" hidden><div class=\"sk-item sk-dashed-wrapped\"><div class=\"sk-label-container\"><div class=\"sk-label sk-toggleable\"><input class=\"sk-toggleable__control sk-hidden--visually\" id=\"sk-estimator-id-1\" type=\"checkbox\" ><label for=\"sk-estimator-id-1\" class=\"sk-toggleable__label sk-toggleable__label-arrow\">Pipeline</label><div class=\"sk-toggleable__content\"><pre>Pipeline(steps=[(&#x27;tfid&#x27;, TfidfVectorizer()), (&#x27;clf&#x27;, MultinomialNB())])</pre></div></div></div><div class=\"sk-serial\"><div class=\"sk-item\"><div class=\"sk-estimator sk-toggleable\"><input class=\"sk-toggleable__control sk-hidden--visually\" id=\"sk-estimator-id-2\" type=\"checkbox\" ><label for=\"sk-estimator-id-2\" class=\"sk-toggleable__label sk-toggleable__label-arrow\">TfidfVectorizer</label><div class=\"sk-toggleable__content\"><pre>TfidfVectorizer()</pre></div></div></div><div class=\"sk-item\"><div class=\"sk-estimator sk-toggleable\"><input class=\"sk-toggleable__control sk-hidden--visually\" id=\"sk-estimator-id-3\" type=\"checkbox\" ><label for=\"sk-estimator-id-3\" class=\"sk-toggleable__label sk-toggleable__label-arrow\">MultinomialNB</label><div class=\"sk-toggleable__content\"><pre>MultinomialNB()</pre></div></div></div></div></div></div></div>"
      ],
      "text/plain": [
       "Pipeline(steps=[('tfid', TfidfVectorizer()), ('clf', MultinomialNB())])"
      ]
     },
     "execution_count": 49,
     "metadata": {},
     "output_type": "execute_result"
    }
   ],
   "source": [
    "model0.fit(train_data, train_label)"
   ]
  },
  {
   "cell_type": "code",
   "execution_count": 50,
   "id": "66324b77",
   "metadata": {},
   "outputs": [],
   "source": [
    "model0_score = model0.score(val_data, val_label)"
   ]
  },
  {
   "cell_type": "code",
   "execution_count": 51,
   "id": "680f452f",
   "metadata": {},
   "outputs": [
    {
     "name": "stdout",
     "output_type": "stream",
     "text": [
      "Model Accuracy : 79.26509186351706 %\n"
     ]
    }
   ],
   "source": [
    "print(\"Model Accuracy : {0} %\" .format((model0_score * 100)))"
   ]
  },
  {
   "cell_type": "markdown",
   "id": "b7f2bd02",
   "metadata": {},
   "source": [
    "### Model Evaluation"
   ]
  },
  {
   "cell_type": "code",
   "execution_count": 52,
   "id": "7c1aed52",
   "metadata": {},
   "outputs": [],
   "source": [
    "from sklearn.metrics import accuracy_score, precision_score, precision_recall_fscore_support\n",
    "def eval_the_model(y_true, y_pred):\n",
    "    '''\n",
    "    Args:\n",
    "    _________________________________________\n",
    "        y_true : true validation values\n",
    "        y_pred : model predicted label values\n",
    "    _________________________________________\n",
    "    '''\n",
    "    acc_score = accuracy_score(y_pred, y_true)\n",
    "    acc_percentage = acc_score * 100 \n",
    "    precision, recall, f1_score, support = precision_recall_fscore_support(y_pred, y_true, average=\"weighted\")\n",
    "    output = {\n",
    "        \"Accuracy Score\" : acc_score,\n",
    "        \"Accuracy Percentage \" : acc_score * 100,\n",
    "        \"Precision (TP / (TP + FP))\" : precision,\n",
    "        \"Recall (TP / (TP + FN))\" : recall,\n",
    "        \"F1-Score\" : f1_score,\n",
    "        \"Support\" : support\n",
    "    }\n",
    "    return output\n",
    "    "
   ]
  },
  {
   "cell_type": "code",
   "execution_count": 53,
   "id": "2b314eaa",
   "metadata": {},
   "outputs": [],
   "source": [
    "y_preds = model0.predict(val_data)"
   ]
  },
  {
   "cell_type": "code",
   "execution_count": 54,
   "id": "1340166d",
   "metadata": {},
   "outputs": [
    {
     "data": {
      "text/plain": [
       "{'Accuracy Score': 0.7926509186351706,\n",
       " 'Accuracy Percentage ': 79.26509186351706,\n",
       " 'Precision (TP / (TP + FP))': 0.8111390004213173,\n",
       " 'Recall (TP / (TP + FN))': 0.7926509186351706,\n",
       " 'F1-Score': 0.7862189758049549,\n",
       " 'Support': None}"
      ]
     },
     "execution_count": 54,
     "metadata": {},
     "output_type": "execute_result"
    }
   ],
   "source": [
    "eval_the_model(y_preds, val_label)"
   ]
  },
  {
   "cell_type": "markdown",
   "id": "6b43e7ff",
   "metadata": {},
   "source": [
    "## Simple Dense Model"
   ]
  },
  {
   "cell_type": "code",
   "execution_count": 55,
   "id": "80d0da20",
   "metadata": {},
   "outputs": [],
   "source": [
    "from tensorflow.keras import layers\n",
    "from tensorflow.keras.layers import Input, Dense, GlobalAveragePooling1D"
   ]
  },
  {
   "cell_type": "code",
   "execution_count": 56,
   "id": "f73dde63",
   "metadata": {},
   "outputs": [],
   "source": [
    "inputs = Input(shape=(1,), dtype='string')\n",
    "X = text_vectorizer(inputs)\n",
    "X = embedding(X)\n",
    "X = GlobalAveragePooling1D()(X)\n",
    "outputs = Dense(1, activation='sigmoid')(X)\n",
    "model1 = tf.keras.Model(inputs, outputs, name=\"simple_dense_model\")"
   ]
  },
  {
   "cell_type": "code",
   "execution_count": 57,
   "id": "c0a7b6d1",
   "metadata": {},
   "outputs": [],
   "source": [
    "model1.compile(loss=tf.keras.losses.binary_crossentropy,\n",
    "              optimizer=tf.keras.optimizers.Adam(),\n",
    "              metrics=['accuracy'])"
   ]
  },
  {
   "cell_type": "code",
   "execution_count": 58,
   "id": "fb7e686d",
   "metadata": {},
   "outputs": [
    {
     "name": "stdout",
     "output_type": "stream",
     "text": [
      "Model: \"simple_dense_model\"\n",
      "_________________________________________________________________\n",
      " Layer (type)                Output Shape              Param #   \n",
      "=================================================================\n",
      " input_1 (InputLayer)        [(None, 1)]               0         \n",
      "                                                                 \n",
      " text_vectorization_1 (TextV  (None, 15)               0         \n",
      " ectorization)                                                   \n",
      "                                                                 \n",
      " embedding (Embedding)       (None, 15, 512)           7680000   \n",
      "                                                                 \n",
      " global_average_pooling1d (G  (None, 512)              0         \n",
      " lobalAveragePooling1D)                                          \n",
      "                                                                 \n",
      " dense (Dense)               (None, 1)                 513       \n",
      "                                                                 \n",
      "=================================================================\n",
      "Total params: 7,680,513\n",
      "Trainable params: 7,680,513\n",
      "Non-trainable params: 0\n",
      "_________________________________________________________________\n"
     ]
    }
   ],
   "source": [
    "model1.summary()"
   ]
  },
  {
   "cell_type": "code",
   "execution_count": 68,
   "id": "35038a90",
   "metadata": {},
   "outputs": [
    {
     "name": "stdout",
     "output_type": "stream",
     "text": [
      "Epoch 1/5\n",
      "215/215 [==============================] - 28s 129ms/step - loss: 0.0403 - accuracy: 0.9867 - val_loss: 0.8606 - val_accuracy: 0.7638\n",
      "Epoch 2/5\n",
      "215/215 [==============================] - 27s 124ms/step - loss: 0.0373 - accuracy: 0.9879 - val_loss: 0.9079 - val_accuracy: 0.7520\n",
      "Epoch 3/5\n",
      "215/215 [==============================] - 27s 127ms/step - loss: 0.0336 - accuracy: 0.9886 - val_loss: 0.9540 - val_accuracy: 0.7612\n",
      "Epoch 4/5\n",
      "215/215 [==============================] - 26s 123ms/step - loss: 0.0319 - accuracy: 0.9888 - val_loss: 0.9908 - val_accuracy: 0.7480\n",
      "Epoch 5/5\n",
      "215/215 [==============================] - 27s 127ms/step - loss: 0.0296 - accuracy: 0.9893 - val_loss: 1.0134 - val_accuracy: 0.7546\n"
     ]
    }
   ],
   "source": [
    "# Model Fitting\n",
    "history1 = model1.fit(train_data,\n",
    "                      train_label,\n",
    "                      epochs=5,\n",
    "                      validation_data=(val_data, val_label))"
   ]
  },
  {
   "cell_type": "code",
   "execution_count": 69,
   "id": "a3d0199a",
   "metadata": {},
   "outputs": [],
   "source": [
    "import matplotlib.pyplot as plt\n",
    "def plot_the_model(history):\n",
    "    accuracy = history.history['accuracy']\n",
    "    val_accuracy = history.history['val_accuracy']\n",
    "    loss = history.history['loss']\n",
    "    val_loss = history.history['val_loss']\n",
    "    epochs = range(len(val_loss))\n",
    "    plt.plot(epochs, accuracy, label='training accuracy')\n",
    "    plt.plot(epochs, val_accuracy, label='validation_accuracy')\n",
    "    plt.ylabel(\"Accuracy\")\n",
    "    plt.xlabel(\"Epochs\")\n",
    "    plt.legend()\n",
    "    \n",
    "    plt.figure()\n",
    "    plt.plot(epochs, loss, label='training_loss')\n",
    "    plt.plot(epochs, val_loss, label='validation loss')\n",
    "    plt.ylabel(\"Loss\")\n",
    "    plt.xlabel('Epochs')\n",
    "    plt.legend()"
   ]
  },
  {
   "cell_type": "code",
   "execution_count": 65,
   "id": "e5a01cdb",
   "metadata": {},
   "outputs": [
    {
     "data": {
      "image/png": "[encoded data removed]",
      "text/plain": [
       "<Figure size 640x480 with 1 Axes>"
      ]
     },
     "metadata": {},
     "output_type": "display_data"
    },
    {
     "data": {
      "image/png": "[encoded data removed]",
      "text/plain": [
       "<Figure size 640x480 with 1 Axes>"
      ]
     },
     "metadata": {},
     "output_type": "display_data"
    }
   ],
   "source": [
    "plot_the_model(history1)"
   ]
  },
  {
   "cell_type": "code",
   "execution_count": 70,
   "id": "7a13396a",
   "metadata": {},
   "outputs": [
    {
     "name": "stdout",
     "output_type": "stream",
     "text": [
      "24/24 [==============================] - 0s 6ms/step - loss: 1.0134 - accuracy: 0.7546\n"
     ]
    },
    {
     "data": {
      "text/plain": [
       "[1.0133509635925293, 0.7545931935310364]"
      ]
     },
     "execution_count": 70,
     "metadata": {},
     "output_type": "execute_result"
    }
   ],
   "source": [
    "model1.evaluate(val_data, val_label) # Returns validation_loss, validation_accuracy"
   ]
  },
  {
   "cell_type": "code",
   "execution_count": null,
   "id": "89059bbc",
   "metadata": {},
   "outputs": [],
   "source": []
  }
 ],
 "metadata": {
  "kernelspec": {
   "display_name": "Python 3 (ipykernel)",
   "language": "python",
   "name": "python3"
  },
  "language_info": {
   "codemirror_mode": {
    "name": "ipython",
    "version": 3
   },
   "file_extension": ".py",
   "mimetype": "text/x-python",
   "name": "python",
   "nbconvert_exporter": "python",
   "pygments_lexer": "ipython3",
   "version": "3.11.0"
  }
 },
 "nbformat": 4,
 "nbformat_minor": 5
}
