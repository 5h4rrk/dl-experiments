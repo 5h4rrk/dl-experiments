{
 "cells": [
  {
   "cell_type": "code",
   "execution_count": 2,
   "id": "bcce2eac",
   "metadata": {},
   "outputs": [
    {
     "data": {
      "text/html": [
       "<style>.container { width:96% !important; }</style>"
      ],
      "text/plain": [
       "<IPython.core.display.HTML object>"
      ]
     },
     "metadata": {},
     "output_type": "display_data"
    }
   ],
   "source": [
    "from IPython.display import display, HTML\n",
    "display(HTML(\"<style>.container { width:96% !important; }</style>\"))"
   ]
  },
  {
   "cell_type": "code",
   "execution_count": 3,
   "id": "97dd4dac",
   "metadata": {},
   "outputs": [],
   "source": [
    "import datetime"
   ]
  },
  {
   "cell_type": "code",
   "execution_count": 4,
   "id": "c72e6f32",
   "metadata": {},
   "outputs": [
    {
     "name": "stdout",
     "output_type": "stream",
     "text": [
      "Started at :  2023-11-04 09:47:25.556487\n"
     ]
    }
   ],
   "source": [
    "print(\"Started at : \", datetime.datetime.now())"
   ]
  },
  {
   "cell_type": "code",
   "execution_count": 5,
   "id": "98b2202d",
   "metadata": {},
   "outputs": [],
   "source": [
    "import requests\n",
    "from zipfile import ZipFile"
   ]
  },
  {
   "cell_type": "code",
   "execution_count": 6,
   "id": "946f4158",
   "metadata": {},
   "outputs": [],
   "source": [
    "# d = requests.get(\"https://storage.googleapis.com/ztm_tf_course/nlp_getting_started.zip\")"
   ]
  },
  {
   "cell_type": "code",
   "execution_count": 7,
   "id": "b6165759",
   "metadata": {},
   "outputs": [],
   "source": [
    "# with open(\"data/getting_started.zip\", \"wb\") as f:\n",
    "#     f.write(d.content)"
   ]
  },
  {
   "cell_type": "code",
   "execution_count": 8,
   "id": "10770b07",
   "metadata": {},
   "outputs": [],
   "source": [
    "# with ZipFile(\"data/getting_started.zip\", 'r') as z:\n",
    "#     z.extractall(\"data/\")"
   ]
  },
  {
   "cell_type": "code",
   "execution_count": 9,
   "id": "18230368",
   "metadata": {},
   "outputs": [],
   "source": [
    "import pandas as pd"
   ]
  },
  {
   "cell_type": "code",
   "execution_count": 10,
   "id": "7cbd01ff",
   "metadata": {},
   "outputs": [],
   "source": [
    "train_df = pd.read_csv(\"data/train.csv\")\n",
    "test_df = pd.read_csv(\"data/test.csv\")"
   ]
  },
  {
   "cell_type": "code",
   "execution_count": 11,
   "id": "4890859d",
   "metadata": {},
   "outputs": [],
   "source": [
    "import numpy as np\n",
    "import random\n",
    "random.seed(42)\n",
    "np.random.seed(42)"
   ]
  },
  {
   "cell_type": "code",
   "execution_count": 12,
   "id": "b6387b67",
   "metadata": {},
   "outputs": [
    {
     "data": {
      "text/plain": [
       "((7613, 5), (3263, 4))"
      ]
     },
     "execution_count": 12,
     "metadata": {},
     "output_type": "execute_result"
    }
   ],
   "source": [
    "train_df.shape, test_df.shape"
   ]
  },
  {
   "cell_type": "code",
   "execution_count": 13,
   "id": "46808c6b",
   "metadata": {},
   "outputs": [],
   "source": [
    "train_df_shuffled = train_df.sample(frac=1, random_state=42)"
   ]
  },
  {
   "cell_type": "code",
   "execution_count": 14,
   "id": "6056e5ae",
   "metadata": {},
   "outputs": [
    {
     "data": {
      "text/html": [
       "<div>\n",
       "<style scoped>\n",
       "    .dataframe tbody tr th:only-of-type {\n",
       "        vertical-align: middle;\n",
       "    }\n",
       "\n",
       "    .dataframe tbody tr th {\n",
       "        vertical-align: top;\n",
       "    }\n",
       "\n",
       "    .dataframe thead th {\n",
       "        text-align: right;\n",
       "    }\n",
       "</style>\n",
       "<table border=\"1\" class=\"dataframe\">\n",
       "  <thead>\n",
       "    <tr style=\"text-align: right;\">\n",
       "      <th></th>\n",
       "      <th>id</th>\n",
       "      <th>keyword</th>\n",
       "      <th>location</th>\n",
       "      <th>text</th>\n",
       "      <th>target</th>\n",
       "    </tr>\n",
       "  </thead>\n",
       "  <tbody>\n",
       "    <tr>\n",
       "      <th>2644</th>\n",
       "      <td>3796</td>\n",
       "      <td>destruction</td>\n",
       "      <td>NaN</td>\n",
       "      <td>So you have a new weapon that can cause un-ima...</td>\n",
       "      <td>1</td>\n",
       "    </tr>\n",
       "    <tr>\n",
       "      <th>2227</th>\n",
       "      <td>3185</td>\n",
       "      <td>deluge</td>\n",
       "      <td>NaN</td>\n",
       "      <td>The f$&amp;amp;@ing things I do for #GISHWHES Just...</td>\n",
       "      <td>0</td>\n",
       "    </tr>\n",
       "    <tr>\n",
       "      <th>5448</th>\n",
       "      <td>7769</td>\n",
       "      <td>police</td>\n",
       "      <td>UK</td>\n",
       "      <td>DT @georgegalloway: RT @Galloway4Mayor: ÛÏThe...</td>\n",
       "      <td>1</td>\n",
       "    </tr>\n",
       "    <tr>\n",
       "      <th>132</th>\n",
       "      <td>191</td>\n",
       "      <td>aftershock</td>\n",
       "      <td>NaN</td>\n",
       "      <td>Aftershock back to school kick off was great. ...</td>\n",
       "      <td>0</td>\n",
       "    </tr>\n",
       "    <tr>\n",
       "      <th>6845</th>\n",
       "      <td>9810</td>\n",
       "      <td>trauma</td>\n",
       "      <td>Montgomery County, MD</td>\n",
       "      <td>in response to trauma Children of Addicts deve...</td>\n",
       "      <td>0</td>\n",
       "    </tr>\n",
       "  </tbody>\n",
       "</table>\n",
       "</div>"
      ],
      "text/plain": [
       "        id      keyword               location  \\\n",
       "2644  3796  destruction                    NaN   \n",
       "2227  3185       deluge                    NaN   \n",
       "5448  7769       police                     UK   \n",
       "132    191   aftershock                    NaN   \n",
       "6845  9810       trauma  Montgomery County, MD   \n",
       "\n",
       "                                                   text  target  \n",
       "2644  So you have a new weapon that can cause un-ima...       1  \n",
       "2227  The f$&amp;@ing things I do for #GISHWHES Just...       0  \n",
       "5448  DT @georgegalloway: RT @Galloway4Mayor: ÛÏThe...       1  \n",
       "132   Aftershock back to school kick off was great. ...       0  \n",
       "6845  in response to trauma Children of Addicts deve...       0  "
      ]
     },
     "execution_count": 14,
     "metadata": {},
     "output_type": "execute_result"
    }
   ],
   "source": [
    "train_df_shuffled.head()"
   ]
  },
  {
   "cell_type": "code",
   "execution_count": 15,
   "id": "43946f27",
   "metadata": {},
   "outputs": [
    {
     "data": {
      "text/html": [
       "<div>\n",
       "<style scoped>\n",
       "    .dataframe tbody tr th:only-of-type {\n",
       "        vertical-align: middle;\n",
       "    }\n",
       "\n",
       "    .dataframe tbody tr th {\n",
       "        vertical-align: top;\n",
       "    }\n",
       "\n",
       "    .dataframe thead th {\n",
       "        text-align: right;\n",
       "    }\n",
       "</style>\n",
       "<table border=\"1\" class=\"dataframe\">\n",
       "  <thead>\n",
       "    <tr style=\"text-align: right;\">\n",
       "      <th></th>\n",
       "      <th>id</th>\n",
       "      <th>keyword</th>\n",
       "      <th>location</th>\n",
       "      <th>text</th>\n",
       "    </tr>\n",
       "  </thead>\n",
       "  <tbody>\n",
       "    <tr>\n",
       "      <th>0</th>\n",
       "      <td>0</td>\n",
       "      <td>NaN</td>\n",
       "      <td>NaN</td>\n",
       "      <td>Just happened a terrible car crash</td>\n",
       "    </tr>\n",
       "    <tr>\n",
       "      <th>1</th>\n",
       "      <td>2</td>\n",
       "      <td>NaN</td>\n",
       "      <td>NaN</td>\n",
       "      <td>Heard about #earthquake is different cities, s...</td>\n",
       "    </tr>\n",
       "    <tr>\n",
       "      <th>2</th>\n",
       "      <td>3</td>\n",
       "      <td>NaN</td>\n",
       "      <td>NaN</td>\n",
       "      <td>there is a forest fire at spot pond, geese are...</td>\n",
       "    </tr>\n",
       "    <tr>\n",
       "      <th>3</th>\n",
       "      <td>9</td>\n",
       "      <td>NaN</td>\n",
       "      <td>NaN</td>\n",
       "      <td>Apocalypse lighting. #Spokane #wildfires</td>\n",
       "    </tr>\n",
       "    <tr>\n",
       "      <th>4</th>\n",
       "      <td>11</td>\n",
       "      <td>NaN</td>\n",
       "      <td>NaN</td>\n",
       "      <td>Typhoon Soudelor kills 28 in China and Taiwan</td>\n",
       "    </tr>\n",
       "  </tbody>\n",
       "</table>\n",
       "</div>"
      ],
      "text/plain": [
       "   id keyword location                                               text\n",
       "0   0     NaN      NaN                 Just happened a terrible car crash\n",
       "1   2     NaN      NaN  Heard about #earthquake is different cities, s...\n",
       "2   3     NaN      NaN  there is a forest fire at spot pond, geese are...\n",
       "3   9     NaN      NaN           Apocalypse lighting. #Spokane #wildfires\n",
       "4  11     NaN      NaN      Typhoon Soudelor kills 28 in China and Taiwan"
      ]
     },
     "execution_count": 15,
     "metadata": {},
     "output_type": "execute_result"
    }
   ],
   "source": [
    "test_df.head()"
   ]
  },
  {
   "cell_type": "code",
   "execution_count": 16,
   "id": "ce5ad006",
   "metadata": {},
   "outputs": [
    {
     "data": {
      "text/plain": [
       "target\n",
       "0    4342\n",
       "1    3271\n",
       "Name: count, dtype: int64"
      ]
     },
     "execution_count": 16,
     "metadata": {},
     "output_type": "execute_result"
    }
   ],
   "source": [
    "train_df['target'].value_counts()"
   ]
  },
  {
   "cell_type": "code",
   "execution_count": 17,
   "id": "cf76977a",
   "metadata": {},
   "outputs": [
    {
     "name": "stdout",
     "output_type": "stream",
     "text": [
      "\u001b[0mLabel :  \u001b[1m0\n",
      "\u001b[0mText :  \u001b[1mWhy did God order obliteration of ancient Canaanites? http://t.co/pKKcdWjyg0 via @worldnetdaily\n",
      "\n",
      "\u001b[0mLabel :  \u001b[1m0\n",
      "\u001b[0mText :  \u001b[1mFriday supposed to be a happy day but it's a bloody friday hah zzzz\n",
      "\n",
      "\u001b[0mLabel :  \u001b[1m1\n",
      "\u001b[0mText :  \u001b[1mTwelve feared killed in Pakistani air ambulance helicopter crash http://t.co/X2Qsjod40u #worldnews\n",
      "\n",
      "\u001b[0mLabel :  \u001b[1m0\n",
      "\u001b[0mText :  \u001b[1mSinkhole Selfies: You Wont Believe What's In The Brooklyn Sinkhole!: \n",
      "        Sinkhole Sel... http://t.co/OYY9MGW7HN @hinterestin #funny\n",
      "\n",
      "\u001b[0mLabel :  \u001b[1m0\n",
      "\u001b[0mText :  \u001b[1mWhy are you deluged with low self-image? Take the quiz: http://t.co/1PFlM532mG http://t.co/58qruGZvg0\n",
      "\n",
      "\u001b[0mLabel :  \u001b[1m0\n",
      "\u001b[0mText :  \u001b[1m#NP Metallica - Damage Inc\n",
      "\n",
      "\u001b[0mLabel :  \u001b[1m1\n",
      "\u001b[0mText :  \u001b[1m1 ÛÒ The bug that almost crashed the Euro - http://t.co/KgkZ50Q8TK\n",
      "\n",
      "\u001b[0mLabel :  \u001b[1m1\n",
      "\u001b[0mText :  \u001b[1m70th anniversary of Hiroshima atomic bombing marked  http://t.co/1mGvd4x5Oe\n",
      "\n",
      "\u001b[0mLabel :  \u001b[1m1\n",
      "\u001b[0mText :  \u001b[1mOil and Gas Exploration Takes Seismic Shift in Gabon to Somalia - Bloomberg http://t.co/bEKrPjnYHs #??????? #Somalia\n",
      "\n",
      "\u001b[0mLabel :  \u001b[1m0\n",
      "\u001b[0mText :  \u001b[1mI love the cotton candy blizzard??\n",
      "\n"
     ]
    }
   ],
   "source": [
    "for _ in range(10):\n",
    "    random_no = random.randint(0, len(train_df)-1)\n",
    "    print(\"\\033[0mLabel : \",f\"\\033[1m{train_df_shuffled.target[random_no]}\")\n",
    "    print(f\"\\033[0mText : \" , f\"\\033[1m{train_df_shuffled.text[random_no]}\")\n",
    "    print(\"\")"
   ]
  },
  {
   "cell_type": "markdown",
   "id": "d2e49046",
   "metadata": {},
   "source": [
    " - `Diaster - 1`\n",
    "\n",
    " - `Not Real Diaster - 0`"
   ]
  },
  {
   "cell_type": "markdown",
   "id": "2c8b82ba",
   "metadata": {},
   "source": [
    "## Data Spliting"
   ]
  },
  {
   "cell_type": "code",
   "execution_count": 18,
   "id": "4e5ba6a9",
   "metadata": {},
   "outputs": [],
   "source": [
    "from sklearn.model_selection import train_test_split"
   ]
  },
  {
   "cell_type": "code",
   "execution_count": 19,
   "id": "ca1c8a84",
   "metadata": {},
   "outputs": [],
   "source": [
    "train_data , val_data , train_label , val_label = train_test_split \\\n",
    "                                                    (\n",
    "                                                    train_df_shuffled['text'].to_numpy(),\n",
    "                                                    train_df_shuffled['target'].to_numpy(),\n",
    "                                                    test_size=0.1,\n",
    "                                                    random_state=42\n",
    "                                                    )"
   ]
  },
  {
   "cell_type": "code",
   "execution_count": 20,
   "id": "e6914022",
   "metadata": {},
   "outputs": [
    {
     "name": "stdout",
     "output_type": "stream",
     "text": [
      "6851 762 6851 762\n"
     ]
    }
   ],
   "source": [
    "print(len(train_data), len(val_data), len(train_label), len(val_label))"
   ]
  },
  {
   "cell_type": "code",
   "execution_count": 21,
   "id": "f4cc510f",
   "metadata": {},
   "outputs": [
    {
     "data": {
      "text/plain": [
       "(array(['@mogacola @zamtriossu i screamed after hitting tweet',\n",
       "        'Imagine getting flattened by Kurt Zouma',\n",
       "        '@Gurmeetramrahim #MSGDoing111WelfareWorks Green S welfare force ke appx 65000 members har time disaster victim ki help ke liye tyar hai....',\n",
       "        \"@shakjn @C7 @Magnums im shaking in fear he's gonna hack the planet\",\n",
       "        'Somehow find you and I collide http://t.co/Ee8RpOahPk',\n",
       "        '@EvaHanderek @MarleyKnysh great times until the bus driver held us hostage in the mall parking lot lmfao',\n",
       "        'destroy the free fandom honestly',\n",
       "        'Weapons stolen from National Guard Armory in New Albany still missing #Gunsense http://t.co/lKNU8902JE',\n",
       "        '@wfaaweather Pete when will the heat wave pass? Is it really going to be mid month? Frisco Boy Scouts have a canoe trip in Okla.',\n",
       "        'Patient-reported outcomes in long-term survivors of metastatic colorectal cancer - British Journal of Surgery http://t.co/5Yl4DC1Tqt'],\n",
       "       dtype=object),\n",
       " array([0, 0, 1, 0, 0, 1, 1, 0, 1, 1], dtype=int64))"
      ]
     },
     "execution_count": 21,
     "metadata": {},
     "output_type": "execute_result"
    }
   ],
   "source": [
    "train_data[:10], train_label[:10]"
   ]
  },
  {
   "cell_type": "code",
   "execution_count": 22,
   "id": "8733a315",
   "metadata": {},
   "outputs": [],
   "source": [
    "import tensorflow as tf\n",
    "from tensorflow.keras.layers import TextVectorization"
   ]
  },
  {
   "cell_type": "code",
   "execution_count": 23,
   "id": "6bc7252b",
   "metadata": {},
   "outputs": [],
   "source": [
    "text_vectorizer = TextVectorization(\n",
    "    max_tokens=None,\n",
    "    standardize='lower_and_strip_punctuation',\n",
    "    split='whitespace',\n",
    "    ngrams=None,\n",
    "    output_mode='int',\n",
    "    vocabulary=None)"
   ]
  },
  {
   "cell_type": "code",
   "execution_count": 24,
   "id": "dfc4efe4",
   "metadata": {},
   "outputs": [
    {
     "data": {
      "text/plain": [
       "['', '[UNK]']"
      ]
     },
     "execution_count": 24,
     "metadata": {},
     "output_type": "execute_result"
    }
   ],
   "source": [
    "text_vectorizer.get_vocabulary()"
   ]
  },
  {
   "cell_type": "code",
   "execution_count": 25,
   "id": "91e7ff30",
   "metadata": {},
   "outputs": [
    {
     "data": {
      "text/plain": [
       "'7 6 20 12 7 17 5 13 25 15 19 11 20 22 9 24 19 6 4 12 8 6 17 17 7 18 19 26 21 10 27 14 5 7 11 7 15 6 11 23 8 17 17 17 3 20 9 9 4 8 19 17 23 20 8 13 19 8 17 8 12 9 25 15 20 8 7 11 12 18 19 10 22 18 11 21 9 16 2 15 25 11 12 20 19 14 16 4 21 9 17 14 11 20 15 12 21 26 12 20 15 15 22 14 11 10 13 11 9 22 22 16 15 5 20 10 15 19 20 10 17 15 12 3 9 3 8 13 8 18 3 15 14 10 22 11 15 21 22 18 8 12 5 18 9 14 8 17 7 18 18 15 7 8 15 28 7 6 11 16 21 11 21 16 22 18 22 7 22 15 19 21 2 21 13 4 23 16 16 18 22 18 22 14 15 18 2 23 11 9 19 24 22 2 9 14 19 14 20 12 11 18 22 19 15 23 20 23 7 7 15 9 13 24 8 17 14 18 17 12 19 11 19 18 14 17 9 10 12 8 14 12 3 20 23 24 18 17 23 28 26 21 24 8 17 10 19 23 11 20 21 19 24 17 12 17 9 16 24 22 18 17 13 24 7 12 18 15 19 11 16 18 11 20 22 24 16 11 17 12 11 2 10 19 19 16 12 18 24 8 7 17 14 20 11 12 15 12 23 5 19 15 16 11 18 19 16 27 19 9 22 11 10 20 19 12 15 13 31 4 23 16 24 16 17 9 7 10 8 6 6 9 13 8 14 20 8 22 11 9 13 11 7 12 15 11 20 3 11 14 12 10 20 12 20 11 17 8 11 5 10 12 25 4 12 21 7 12 18 17 6 25 26 12 3 11 19 12 10 22 15 10 8 9 13 14 22 7 15 22 15 12 10 16 23 17 9 7 8 22 5 15 5 19 24 10 14 19 16 11 11 8 8 21 10 17 25 10 23 14 18 19 16 12 10 3 11 3 14 17 20 20 9 24 17 15 13 15 12 3 20 11 20 17 15 13 9 17 24 9 13 26 19 19 8 12 7 18 24 29 13 8 11 3 17 22 21 4 9 19 4 15 26 23 16 11 13 9 17 9 17 18 13 8 20 18 18 9 11 6 17 21 17 3 8 17 16 23 22 15 11 9 8 16 17 20 16 14 24 11 14 19 16 16 13 26 23 12 23 16 11 14 17 16 21 18 21 16 20 20 23 17 10 13 20 9 13 17 20 17 14 14 19 26 14 21 16 16 25 18 25 18 8 21 15 10 21 6 15 16 27 12 7 25 11 22 9 18 25 17 13 22 17 11 18 8 19 16 15 22 24 11 12 11 19 19 12 10 18 6 11 18 10 5 19 18 18 27 9 12 18 10 18 11 20 5 22 13 16 8 22 14 27 7 17 18 3 17 7 25 22 12 12 17 16 22 22 25 13 10 16 14 13 17 17 18 14 14 13 13 5 5 21 23 18 14 16 21 19 22 16 3 26 9 21 23 18 20 15 11 4 20 14 16 24 16 10 16 15 20 13 15 11 18 10 17 20 18 11 25 10 25 22 20 20 19 21 23 25 8 24 22 19 13 21 23 25 13 20 11 6 11 18 21 22 11 19 6 13 26 11 12 8 25 20 10 10 12 13 8 26 7 11 14 17 18 20 22 17 9 13 15 7 5 10 18 9 5 6 27 13 19 23 13 16 9 14 12 10 8 21 17 14 17 11 20 19 8 16 23 10 11 15 17 13 23 16 18 14 24 11 13 11 9 13 12 19 17 22 12 17 12 17 23 18 19 11 19 13 17 6 15 14 16 25 10 15 15 15 14 17 24 15 15 22 2 15 11 24 12 19 21 18 21 8 9 9 18 16 18 9 19 12 11 18 24 13 8 22 6 12 20 25 23 11 14 15 15 16 13 19 9 8 8 6 10 19 23 22 9 16 16 19 16 25 23 17 17 8 16 3 8 7 18 14 30 17 10 12 16 12 19 12 13 2 17 23 17 14 7 12 20 13 16 12 22 4 18 19 8 23 21 8 11 11 9 14 13 16 8 14 1 20 20 20 15 6 9 16 21 11 24 12 15 16 3 20 8 5 12 19 20 22 14 14 17 20 24 9 23 7 27 8 7 14 6 5 11 11 11 11 20 11 19 21 24 13 23 8 14 24 19 13 8 23 5 16 23 20 5 7 9 21 13 14 23 9 8 14 26 5 25 20 20 16 22 7 24 21 10 8 12 18 18 17 8 11 17 22 13 12 18 20 12 16 12 20 21 15 8 15 12 13 15 21 18 14 9 23 16 14 16 15 22 20 9 11 17 20 12 20 5 19 21 12 18 8 17 6 20 10 11 15 19 13 14 9 18 15 6 9 16 5 17 5 12 16 19 17 10 3 14 22 12 20 3 8 14 16 27 15 17 24 9 14 26 14 23 21 18 11 17 14 18 9 16 9 16 20 18 14 17 16 14 6 9 20 26 10 17 10 4 17 22 20 11 7 11 12 21 19 11 18 16 9 12 24 21 11 22 24 6 19 15 14 8 11 15 16 14 21 8 9 12 18 13 13 15 20 28 17 7 6 15 9 8 15 17 11 11 19 15 12 17 18 16 16 15 7 17 14 13 21 16 28 8 17 10 22 12 25 24 19 17 4 13 14 17 7 14 12 17 14 3 15 17 22 12 8 18 23 19 12 20 14 9 14 13 17 25 20 23 27 4 20 23 22 18 10 5 9 27 18 12 22 20 15 17 24 16 22 9 21 9 12 12 4 15 18 11 18 8 4 16 15 21 27 20 19 18 21 10 14 24 10 15 17 8 21 13 21 19 19 21 24 10 20 11 18 9 12 16 18 14 14 6 14 17 10 16 8 21 18 18 15 10 20 13 21 19 10 13 24 24 18 20 20 14 13 22 23 13 23 5 25 10 20 13 20 13 21 17 11 11 17 23 15 2 17 19 22 15 11 15 10 24 9 20 17 7 13 8 15 20 14 11 10 12 21 13 4 22 7 19 5 24 10 5 23 18 23 9 19 23 12 19 16 12 7 16 15 29 17 12 19 28 15 15 19 23 19 18 21 10 27 13 13 7 19 24 13 12 16 7 10 19 14 15 11 25 21 15 9 19 5 12 16 13 16 23 23 6 9 21 20 11 4 9 18 17 21 10 8 17 5 27 23 5 9 20 8 22 18 21 18 6 10 7 15 22 16 20 7 17 24 13 8 6 24 18 22 11 17 20 17 16 16 11 12 14 15 10 16 15 21 24 13 15 19 28 11 28 14 8 23 4 10 18 13 13 10 11 15 22 15 20 9 25 21 12 8 11 5 19 8 8 20 23 10 8 11 16 15 1 15 8 11 13 20 10 13 11 9 1 9 16 19 20 5 17 16 18 18 19 18 14 16 15 10 10 20 22 17 16 18 13 17 14 14 19 6 27 19 22 8 10 16 16 12 13 9 16 11 17 8 19 26 11 19 18 12 17 7 10 5 14 12 14 14 23 22 7 16 7 24 13 2 5 18 23 17 18 12 11 13 12 26 18 11 12 7 14 15 20 21 5 10 10 17 12 8 6 11 18 18 23 19 20 19 16 20 8 17 8 4 8 20 15 16 13 19 18 17 14 21 16 16 9 14 21 14 10 21 24 15 11 19 18 10 19 21 20 9 16 21 18 6 23 23 22 18 10 18 27 14 15 17 9 13 6 14 17 20 21 11 10 12 14 8 26 11 20 17 22 14 23 15 21 14 19 11 11 11 6 20 21 5 19 22 15 14 28 13 20 4 10 20 17 6 8 16 21 14 20 11 13 15 13 19 13 19 16 18 18 24 15 25 18 6 20 12 15 16 9 23 27 27 17 24 11 8 21 7 17 5 20 21 16 9 24 20 8 4 23 6 20 4 3 22 10 20 7 27 24 24 17 18 19 14 3 17 22 22 20 27 25 14 23 27 15 11 8 12 13 23 6 9 11 7 17 20 9 20 11 8 24 10 11 21 13 15 20 7 22 14 15 7 11 23 3 17 10 28 25 18 19 16 17 20 21 7 17 13 14 6 21 17 6 18 16 12 11 22 15 14 7 17 23 8 13 9 11 12 13 11 13 24 19 18 20 7 9 14 17 22 16 9 13 6 15 10 11 3 18 19 15 17 15 7 5 6 20 21 12 21 11 26 24 21 13 16 12 14 9 18 7 14 22 12 11 9 14 12 15 19 9 26 5 3 7 12 11 11 15 9 11 11 12 15 25 15 25 12 11 23 6 6 19 24 7 13 22 3 15 12 18 20 12 9 12 17 13 11 8 24 5 8 13 18 19 11 22 12 24 24 22 13 4 16 22 22 19 11 19 12 22 13 19 3 22 9 22 17 19 4 9 14 12 17 11 17 20 17 23 2 6 26 25 10 8 24 19 7 13 11 7 5 17 14 23 16 21 10 24 14 15 19 8 24 11 17 12 13 18 13 11 23 19 15 16 8 16 11 18 12 11 5 20 22 18 19 13 19 10 13 18 19 11 13 25 24 6 12 9 15 14 22 13 21 13 20 24 10 20 15 23 21 16 18 18 13 17 3 20 15 24 15 14 21 28 9 14 14 4 23 12 9 10 7 15 16 21 7 22 11 20 10 20 17 13 20 14 15 23 12 5 27 16 11 23 22 10 22 9 4 14 15 12 12 19 5 1 13 19 12 17 12 16 10 8 21 14 13 11 6 3 15 14 14 12 16 20 13 20 17 20 20 21 21 6 16 9 15 2 18 15 19 12 17 10 23 11 21 11 18 8 5 19 11 14 6 11 2 16 23 21 12 24 11 9 18 12 9 9 21 10 12 22 13 9 26 4 22 17 15 16 13 28 14 24 20 4 15 8 14 24 26 19 20 18 11 20 18 15 17 12 8 17 12 16 11 8 12 26 3 10 21 9 17 6 10 9 15 12 25 6 25 6 20 9 25 10 14 20 20 17 21 27 17 5 17 16 24 20 17 24 17 17 13 19 21 21 15 8 14 11 18 16 5 15 11 23 18 12 18 17 12 9 13 13 17 9 16 16 10 10 14 14 24 16 17 5 19 17 15 11 4 15 7 15 15 7 3 18 6 16 9 19 13 5 19 11 17 5 22 22 16 6 19 21 13 19 14 5 16 5 16 9 15 5 13 17 12 19 18 12 25 9 8 21 9 13 7 19 7 15 12 14 17 7 9 16 24 16 12 10 21 11 9 13 18 22 13 10 17 8 21 12 13 17 18 20 16 16 18 13 23 29 13 19 13 17 12 9 18 22 14 12 6 20 18 11 9 6 9 10 19 21 7 14 11 12 14 20 10 14 18 8 19 14 10 17 15 23 14 18 24 21 20 8 9 9 8 12 14 9 15 16 19 15 19 17 21 9 16 23 17 10 16 15 19 26 21 16 19 9 14 27 6 19 20 22 16 10 6 7 18 18 15 26 9 24 12 10 6 8 22 17 5 17 8 15 14 22 17 24 16 14 8 20 12 10 16 7 18 19 13 25 16 11 6 12 14 15 7 14 12 3 23 22 4 17 18 16 16 19 10 14 7 14 17 13 11 9 14 10 11 18 18 4 14 12 11 16 12 8 19 10 15 19 26 24 12 21 26 26 5 17 20 24 18 9 23 4 12 30 17 16 19 17 10 9 27 19 16 14 16 15 14 11 9 17 16 19 20 13 16 6 9 14 21 18 17 15 26 7 18 13 9 10 23 16 12 16 22 18 19 18 11 14 11 11 3 5 7 15 9 10 9 21 15 6 13 23 28 12 24 7 19 17 21 25 22 18 9 21 11 20 23 6 12 8 11 13 24 3 11 17 22 17 11 14 17 15 6 14 16 18 20 11 2 22 9 20 23 5 9 12 14 18 14 14 13 23 23 14 6 8 13 23 7 10 6 20 19 27 16 7 13 10 15 15 14 11 8 14 14 14 25 19 11 20 9 13 13 17 15 15 21 9 18 23 10 25 8 10 8 22 11 6 11 2 25 15 19 25 17 11 20 25 23 16 15 19 22 22 8 26 8 4 17 5 5 12 11 7 9 4 19 22 20 11 26 16 10 17 15 16 13 6 23 17 11 3 25 18 13 13 3 22 12 25 10 6 20 16 7 12 17 22 10 13 9 22 20 6 8 10 15 21 10 9 16 17 15 12 9 11 9 23 14 3 10 19 20 6 14 13 24 8 13 15 18 11 17 11 5 26 20 12 17 9 21 24 14 9 25 21 11 21 11 17 11 21 17 17 13 15 18 16 13 16 15 17 22 18 23 5 19 4 22 12 17 14 3 7 9 15 8 14 18 20 11 14 17 10 11 7 18 11 19 19 18 20 13 15 17 7 17 13 11 19 10 24 15 18 19 7 13 19 3 13 7 18 10 14 13 17 15 20 16 25 11 4 6 23 5 11 13 21 12 12 11 13 10 21 22 13 6 12 11 7 7 22 18 16 20 18 9 11 24 19 26 14 22 24 23 22 11 5 18 11 19 12 26 15 22 12 9 11 20 15 27 19 18 28 14 18 19 7 29 25 5 18 20 21 17 8 20 15 10 22 17 15 9 14 4 14 20 21 9 21 10 14 14 23 18 10 24 15 19 9 18 18 18 15 20 13 20 16 16 12 13 25 28 20 18 11 25 21 16 24 20 17 9 14 13 13 26 16 7 16 13 2 12 5 21 17 16 19 25 20 14 25 14 19 4 7 20 12 12 6 15 9 13 20 23 19 10 21 18 26 5 8 9 14 11 14 2 16 20 16 19 6 8 13 17 2 10 15 13 15 17 11 8 17 25 17 14 10 11 19 11 20 12 21 21 10 7 25 21 25 20 11 23 7 14 10 18 19 8 12 21 22 9 14 15 12 5 23 16 12 19 9 12 14 9 22 7 26 15 24 10 9 22 17 9 13 21 14 13 15 16 19 7 9 9 17 24 14 23 9 20 6 8 10 11 9 11 13 25 5 6 13 7 4 20 11 17 20 14 19 18 21 17 10 17 20 19 11 20 13 5 8 14 16 20 23 17 9 8 11 11 8 16 22 17 16 18 23 13 7 14 8 25 15 10 13 21 4 24 12 14 18 20 16 18 17 15 13 15 12 5 22 14 13 24 14 2 28 23 12 18 14 6 10 10 22 22 11 16 22 8 16 26 11 18 22 21 22 11 16 15 22 10 20 12 16 8 25 23 11 17 18 17 10 14 7 7 13 14 10 17 20 18 13 10 24 20 18 12 6 18 15 13 20 16 11 9 13 16 24 15 19 14 16 4 20 2 29 12 13 18 12 17 13 15 20 9 13 21 16 16 20 9 19 12 9 23 11 27 15 4 21 11 24 16 21 11 4 13 8 8 16 13 14 8 7 16 11 13 18 22 13 18 11 9 20 22 12 14 21 15 10 23 20 11 13 8 23 20 9 15 14 11 14 19 16 8 4 18 23 9 19 17 5 6 14 13 24 9 17 22 13 14 7 14 9 13 17 11 12 27 10 8 18 19 10 13 19 22 16 23 14 9 16 15 20 11 12 17 23 12 14 16 13 19 11 17 17 17 4 14 22 11 10 7 15 19 15 23 20 22 22 18 22 17 17 9 12 9 4 10 15 11 6 27 18 15 10 17 23 23 21 25 20 25 14 12 16 28 9 23 18 18 13 14 18 23 13 22 19 13 16 17 11 17 19 17 24 14 14 14 10 8 26 16 18 8 18 5 12 14 19 19 11 23 9 13 16 8 17 21 18 20 18 21 7 13 13 14 13 21 20 26 2 6 16 20 18 11 16 6 12 11 23 23 19 18 14 10 20 17 20 15 22 11 6 21 12 13 13 10 9 6 18 9 15 14 14 18 9 8 13 14 13 5 15 20 13 17 17 11 16 5 23 20 13 22 19 19 17 25 15 10 13 23 16 17 26 16 4 8 15 10 16 19 18 4 22 23 5 10 9 16 23 9 20 23 17 20 15 19 6 23 3 17 15 10 19 11 11 9 14 9 13 24 17 16 14 5 11 7 5 11 13 23 6 11 18 14 7 18 24 18 18 9 11 12 15 10 19 11 10 8 18 8 5 19 24 18 18 23 10 21 12 10 16 5 17 23 17 5 15 22 25 8 23 12 15 17 19 16 9 14 19 23 5 7 12 14 12 20 14 19 10 12 20 7 22 20 10 4 5 15 6 4 18 8 13 17 13 16 20 12 6 17 17 9 15 14 9 16 20 20 13 13 19 10 15 12 14 18 21 19 14 25 19 15 5 24 9 14 9 20 23 17 1 6 14 8 17 23 19 18 12 13 7 8 7 8 17 14 15 16 12 4 9 11 23 19 15 22 7 17 20 16 11 19 13 17 14 20 19 28 9 11 8 22 14 8 24 12 14 17 19 3 26 8 9 11 19 23 17 11 10 17 27 15 6 20 8 4 19 21 18 15 15 20 23 10 13 13 21 14 9 19 16 18 14 9 5 11 6 20 16 14 23 13 22 10 14 16 17 10 21 11 19 9 11 19 22 17 12 23 22 16 16 19 22 8 27 16 15 15 10 20 18 9 13 15 18 12 9 9 7 11 19 27 22 18 11 7 16 9 21 19 7 13 16 19 20 11 21 12 22 5 18 16 13 15 9 24 19 27 14 11 15 19 13 21 14 19 9 7 28 5 11 20 11 9 7 8 18 6 23 11 18 21 17 8 17 28 13 23 12 7 13 6 16 2 20 17 11 11 11 8 21 15 1 9 18 24 17 12 10 23 14 13 21 19 21 19 10 21 9 20 8 19 6 27 7 23 23 22 19 19 17 12 18 14 11 10 22 4 6 12 17 13 18 10 28 12 12 7 9 25 11 12 14 14 7 24 27 19 24 12 22 11 26 13 11 21 6 19 24 21 8 6 16 19 18 20 13 6 17 15 2 22 20 18 3 14 16 16 10 15 14 14 10 5 13 15 6 8 11 2 17 11 21 9 13 11 15 17 11 14 6 15 15 21 12 8 5 14 14 15 15 23 16 6 25 3 6 25 17 9 11 21 13 23 8 17 20 25 17 9 14 18 22 17 17 13 8 21 18 18 25 17 12 23 18 17 18 16 14 17 8 20 20 17 14 23 5 9 12 18 15 15 17 6 20 10 6 13 16 8 15 9 9 1 6 18 18 12 11 11 16 19 12 22 13 13 8 22 15 23 15 28 18 10 21 11 17 18 20 6 21 21 20 7 11 7 9 13 15 14 13 13 12 19 5 14 18 19 8 22 17 10 26 3 17 22 18 17 15 13 24 20 17 25 16 25 8 11 20 23 15 5 13 9 20 11 6 18 17 12 14 23 5 4 21 9 11 9 9 20 14 16 27 23 15 11 10 18 12 14 9 6 11 15 20 16 19 15 20 16 14 11 16 19 18 23 13 18 14 20 16 11 13 19 12 19 17 1 18 20 21 17 12 14 13 16 3 15 14 18 19 19 8 6 9 20 2 18 22 13 18 21 10 16 20 19 8 17 13 15 14 22 17 22 12 10 7 18 24 9 9 21 8 8 9 6 12 21 12 22 14 18 17 14 10 19 15 13 16 14 14 13 16 13 11 13 23 14 17 15 12 16 24 17 18 7 17 2 10 19 17 17 19 20 16 20 19 12 16 13 21 4 9 18 17 20 18 28 23 18 12 7 4 12 4 9 12 16 8 21 14 14 18 18 17 19 14 22 15 9 14 21 15 6 13 9 9 12 10 13 18 20 15 15 23 5 16 17 22 5 19 10 13 14 23 10 18 11 15 22 20 9 18 19 13 10 24 17 13 21 19 25 22 17 7 17 15 16 23 17 14 20 6 6 11 22 12 12 2 7 19 8 14 26 7 7 9 14 16 8 20 13 15 24 19 19 13 11 19 21 19 24 5 12 21 10 4 17 20 22 17 14 17 18 21 9 20 22 16 10 6 20 14 23 18 16 16 10 7 25 18 16 15 9 15 15 26 14 15 18 16 16 24 15 17 19 24 14 11 11 14 5 11 14 16 19 11 14 23 19 19 14 18 7 12 5 21 12 22 14 13 16 20 15 4 17 19 14 13 4 12 5 10 11 6 6 17 13 6 9 14 14 25 11 13 18 11 20 21 14 21 13 14 24 11 7 27 20 6 11 7 18 9 11 15 11 4 11 17 18 21 22 9 20 8 9 22 14 8 20 24 12 12 15 15 14 18 17 9 10 21 11 16 25 12 20 14 24 7 15 27 12 18 18 3 21 12 18 18 25 19 20 26 20 19 10 17 11 7 2 7 17 16 8 16 12 26 18 9 5 17 20 17 26 19 18 26 16 22 11 19 9 12 22 16 23 2 19 21 12 19 15 16 8 6 24 11 17 11 16 15 7 11 10 20 15 20 11 18 6 22 22 24 19 21 18 26 14 12 10 12 20 18 17 26 28 16 18 21 14 4 21 18 15 3 18 22 16 30 13 12 7 23 12 10 6 18 13 3 23 9 7 2 12 24 5 7 24 6 14 16 11 15 14 18 16 18 13 15 17 14 16 7 12 9 23 14 12 18 17 13 17 11 5 12 9 15 22 17 11 17 13 6 22 7 15 15 19 21 13 10 6 24 17 13 15 20 17 7 15 13 12 17 22 18 23 16 12 26 20 20 26 15 16 14 6 18 6 13 13 8 4 25 14 6 21 7 16 14 19 18 8 21 9 22 11 12 5 18 7 22 13 13 10 7 23 12 13 20 5 15 14 16 14 18 16 14 15 13 18 21 19 12 24 22 4 12 18 13 16 9 27 13 24 4 13 8 17 22 18 15 15 12 17 13 17 21 21 11 8 18 11 14 24 5 20 27 14 3 10 18 12 9 17 18 11 6 21 18 6 18 22 7 20 20 15 7 11 17 13 6 17 18 16 14 16 9 11 11 13 14 26 7 17 11 19 16 14 12 19 11 28 17 11 21 19 13 16 11 13 5 17 22 21 21 18 20 13 15 17 11 23 9 12 12 28 10 17 25 7 20 23 17 15 12 11 28 18 2 11 18 11 13 16 7 23 16 8 5 25 10 22 7 5 9 10 26 18 9 14 14 16 5 13 15 7 20 7 4 16 10 20 23 22 18 14 13 19 23 17 12 19 16 18 10 11 4 15 10 16 9 17 13 7 14 24 14 24 12 20 22 13 17 18 17 18 19 12 18 18 17 18 17 3 14 20 18 13 22 18 8 18 2 18 3 7 17 14 16 6 13 19 19 29 8 19 25 22 12 3 11 20 22 24 16 23 20 21 7 17 15 11 8 14 16 20 18 18 18 19 11 9 27 5 15 27 25 18 15 7 9 12 14 16 16 10 13 22 13 17 8 13 21 18 17 13 19 10 14 12 16 18 17 21 14 21 17 10 5 2 18 8 22 9 15 3 8 12 16 19 9 12 5 18 8 8 18 17 17 14 16 20 22 11 10 15 10 10 17 10 16 9 18 11 16 13 16 7 7 11 7 20 18 10 6 21 18 17 8 18 11 20 25 9 18 5 10 13 6 17 17 5 11 19 21 17 11 14 21 19 13 6 16 16 14 25 22 22 10 16 17 25 22 18 19 7 23 19 22 12 5 9 7 16 24 15 26 17 12 20 26 12 15 21 6 4 17 4 11 12 16 21 5 10 15 13 13 18 2 21 9 11 21 13 9 3 18 11 4 5 9 16 9 13 6 16 9 20 19 18 18 14 13 16 15 12 21 18 20 12 11 20 11 9 23 15 12 11 11 7 16 4 24 9 8 24 6 8 23 22 13 11 23 12 18 14 13 9 9 14 5 10 16 24 20 13 10 22 10 26 14 19 7 17 17 8 20 9 23 14 12 17 18 20 11 8 20 10 21 26 9 16 22 15 19 20 11 12 7 19 14 10 19 10 9 24 12 16 16 26 13 28 25 7 16 20 11 12 7 12 4 12 17 7 23 9 16 18 23 16 16 21 11 18 14 19 8 17 8 14 6 22 7 25 18 9 12 15 9 28 7 24 14 4 21 11 25 12 26 8 16 13 18 21 11 14 17 9 23 28 16 14 17 15 18 21 11 25 17 25 3 12 6 14 11 19 13 19 18 24 5 13 11 10 26 14 16 16 15 14 22 18 17 11 19 12 16 4 10 23 10 10 13 14 26 18 14 19 11 20 20 15 14 6 21 17 13 21 10 11 20 15 19 8 18 24 19 14 17 14 17 18 11 13 12 17 11 28 17 18 16 8 11 23 24 19 14 5 17 15 27 8 19 7 26 18 8 12 11 18 19 14 17 14 19 19 12 24 3 16 24 23 13 20 13 14 18 20 9 11 7 11 4 20 15 10 16 7 12 18 11 13 24 15 19 13 22 10 12 19 9 25 15 23 20 24 21 18 20 21 31 23 16 11 12 8 27 10 12 18 10 19 8 22 16 20 15 14 14 21 7 11 18 20 14 11 11 14 19 3 21 27 21 13 18 14 11 18 15 19 14 11 17 9 12 20 16 23 17 19 11 10 14 18 8 11 17 17 19 18 16 9 16 13 14 18 12 8 8 14 4 8 20 17 18 7 14 21 9 13 13 15 16 19 15 19 12 5 6 12 20 8 24 10 11 8 13 24 16 23 5 21 20 20 13 23 18 14 12 10 10 16 18 24 6 16 6 17 10 21 11 16 8 17 21 14 5 15 22 13 20 11 22 21 14 18 19 10 11 15 15 27 20 18 12 19 14 9 19 14 22 17 13 30 15 8 25 15 14 15 12 15 24 11 25 18 20 20 21 12 9 20 20 6 18 17 13 18 27 25 9 15 18 15 11 11 16 15 7 19 14 25 10 2 18 14 20 4 13 10 10 11 14 13 5 9 2 15 6 14 28 19 21 11 22 17 14 28 15 12 10 15 9 19 13 15 17 9 17 8 13 19 10 17 11 9 20 12 27 17 21 10 17 7 19 15 15 22 20 21 17 15 24 15 24 26 11 14 15 4 12 20 7 22 18 16 18 15 5 13 9 13 24 9 15 8 15 6 10 7 23 11 7 13 9 8 9 16 11 18 11 20 13 4 14 17 10 14 10 14 27 10 9 11 12 6 6 21 8 9 5 15 12 14 16 14 5 14 13 17 12 12 18 20 13 26 19 19 14 7 21 9 13 16 9 6 5 23 13 5 17 14 25 12 18 22 14 23 10 14 22 10 26 4 13 18 25 19 13 15 16 16 11 28 17 15 12 7 11 11 12 17 19 21 23 23 11 24 21 24 20 22 5 10 11 16 21 12 29 24 15 15 11 17 19 5 14 6 10 17 24 6 24 11 11 4 12 10 20 11 28 8 17 17 4 4 10 18 19 19 21 20 5 12 13 21 25 5 9 18 8 11 15 25 11 22 15 11 19 12 18 18 21 20 18 18 16 5 19 22 18 9 16 5 19 16 18 19 14 15 15 19 25 7 14 26 14 17 17 15 16 11 11 4 11 14 24 20 17 27 18 22 5 18 27 24 20 27 11 13 17 19 20 6 20 14 21 19 6 14 9 20 16 8 10 5 7 14 25 17 8 20 15 8 16 22 4 17 18 17 9 7 16 23 19 18 11 9 7 13 18 18 16 14 13 13 18 16 17 3 10 12 17 18 8 13 24 14 15 17 8 8 16 14 11 7 9 17 18 25 10 10 18 21 22 18 20 9 11 7 10 15 15 21 19 15 3 20 20 13 10 17 18 19 16 13 6 12 19 8 19 26 11 13 29 20 15 9 7 20 8 20 15 4 14 14 16 13 22 21 15 9 20 18 19 9 11 18 19 12 14 14 10 20 20 8 16 25 8 11 9 16 26 12 24 22 18 6 18 17 22 29 19 18 10 16 16 7 12 14 20 20 7 4 17 7 13 23 17 24 18 26 17 16 13 26 23 25 17 7 21 10 6 8 12 21 12 24 13 9 13 12 15 3 12 9 9 17 18 26 9 26 12 21 12 14 6 13 12 7 12 27 14 16 16 4 16 20 24 9 10 15 11 23 21 27 20 11 23 4 8 22 20 15 10 19 13 10 16 22 9 15 14 5 17 16 19 18 9 16 6 11 14 5 4 8 18 9 12 19 13 11 8 13 8 10 7 8 15 17 4 9 7 14 9 18 21 20 21 12 13 12 19 25 6 25 25 14 23 18 19 19 21 12 21 14 19 16 6 18 17 16 3 21 14 6 17 12 16 21 15 26 14 18 18 17 18 8 16 8 18 20 10 17 9 7 26 13 10 10 11 11 22 10 15 14 15 5 5 16 6 11 26 15 20 11 11 14 9 28 11 15 14 5 7 22 24 22 20 16 19 10 11 14 13 6 8 20 14 9 20 9 7 17 12 23 9 17 11 18 17 19 15 16 12 12 21 5 12 14 17 16 18 9 12 11 17 13 19 25 3 11 23 25 26 11 17 14 14 14 17 15 9 11 15 15 13 5 9 14 17 20 18 16 6 15 19 20 17 13 24 16 15 23 18 10 5 3 13 22 21 9 14 10 18 15 19 23 7 11 18 12 9 7 12 12 22 12 24 9 17 8 14 6 9 8 8 17 27 10 22 11 9 10 23 18 13 3 9 16 5 4 20 21 15 27 20 8 18 9 8 28 14 4 27 18 22 9 20 20 10 21 13 15 21 24 6 13 20 10 3 9 13 17 16 8 12 22 18 24 19 16 21 10 12 14 9 10 25 14 12 7 19 20 24 18 7 16 15 12 6 16 11 14 18 19 11 14 10 25 16 17 14 19 14 14 11 5 14 17 21 2 16 6 13 3 24 14 9 20 15 14 10 7 18 9 8 11 25 13 19 22 4 21 22 23 16 25 22 21 23 18 27 9 16 12 16 10 19 30 11 17 13 18 14 7 12 21 16 19 8 19 17 18 15 26 17 10 8 20 10 8 15 9 12 8 17 18 14 24 4 9 17 21 16 12 13 17 17 15 14 6 10 12 22 13 21 2 11 13 7 11 27 17 16 10 7 7 10 26 19 16 20 17 13 15 11 14 16 7 10 15 10 19 25 8 6 14 8 15 9 22 19 13 7 20 20 11 21 8 24 17 22 5 21 14 9 22 21 18 20 10 19 13 16 21 16 17 8 10 15 12 23 19 13 21 21 22 11 16 17 10 10 8 17 20 22 17 15 17 26 7 11 5 18 25 12 25 10 8 8 2 21 14 13 23 26 15 20 23 27 13 17 26 20 24 29 4 6 24 14 17 20 9 15 20 18 5 6 21 14 16 18 19 17 11 21 8 21 27 3 12 16 16 18 14 10 12 23 10 23 14 9 9 9 21 7 7 11 22 25 18 8 4 11 28 8 24 22 18 11 16 25 12 18 8 22 10 16 18 18 12 20 3 18 17 10 12 15 23 11 19 15 15 9 5 14 12 17 4 18 9 15 24 18 20 8 21 18 15 9 17 12 7 19 10 5 16 14 23 16 18 22 18 14 16 20 20 19 18 20 11 10 22 7 10 12 23 23 21 24 17 20 9 25 23 22 23 7 12 12 12 17 26 21 11 5 22 13 13 21 12 24 22'"
      ]
     },
     "execution_count": 25,
     "metadata": {},
     "output_type": "execute_result"
    }
   ],
   "source": [
    "' '.join([str(len(_.split(\" \"))) for _ in train_data])"
   ]
  },
  {
   "cell_type": "code",
   "execution_count": 26,
   "id": "4dce8802",
   "metadata": {},
   "outputs": [
    {
     "data": {
      "text/plain": [
       "15"
      ]
     },
     "execution_count": 26,
     "metadata": {},
     "output_type": "execute_result"
    }
   ],
   "source": [
    "int(np.ceil(sum(len(_.split(' ')) for _ in train_data ) / len(train_data)))"
   ]
  },
  {
   "cell_type": "code",
   "execution_count": 27,
   "id": "124684a2",
   "metadata": {},
   "outputs": [],
   "source": [
    "max_tokens = 15000\n",
    "max_length = int(np.ceil(sum(len(_.split(' ')) for _ in train_data ) / len(train_data)))"
   ]
  },
  {
   "cell_type": "code",
   "execution_count": 28,
   "id": "0def40fc",
   "metadata": {},
   "outputs": [],
   "source": [
    "text_vectorizer = TextVectorization(max_tokens=max_tokens,\n",
    "                                    output_mode='int',\n",
    "                                   output_sequence_length=max_length)"
   ]
  },
  {
   "cell_type": "code",
   "execution_count": 29,
   "id": "bbdafdf3",
   "metadata": {},
   "outputs": [
    {
     "data": {
      "text/plain": [
       "['', '[UNK]']"
      ]
     },
     "execution_count": 29,
     "metadata": {},
     "output_type": "execute_result"
    }
   ],
   "source": [
    "text_vectorizer.get_vocabulary()"
   ]
  },
  {
   "cell_type": "code",
   "execution_count": 30,
   "id": "9a70cc31",
   "metadata": {},
   "outputs": [],
   "source": [
    "text_vectorizer.adapt(train_data)"
   ]
  },
  {
   "cell_type": "code",
   "execution_count": 31,
   "id": "bdfdc3f0",
   "metadata": {},
   "outputs": [
    {
     "data": {
      "text/plain": [
       "<tf.Tensor: shape=(1, 15), dtype=int64, numpy=\n",
       "array([[ 290,  232,   29,  244,    4, 3744,    0,    0,    0,    0,    0,\n",
       "           0,    0,    0,    0]], dtype=int64)>"
      ]
     },
     "execution_count": 31,
     "metadata": {},
     "output_type": "execute_result"
    }
   ],
   "source": [
    "sample_data = \"Earthquake & flood just hit in Indonesia\"\n",
    "text_vectorizer([sample_data])"
   ]
  },
  {
   "cell_type": "code",
   "execution_count": 32,
   "id": "374ddd90",
   "metadata": {},
   "outputs": [],
   "source": [
    "# Let's Visualize the data \n",
    "def show_rand_data(train_data, text_vectorizer):\n",
    "    _ = np.random.choice(train_data)\n",
    "    print(f\"Text :  {_}\\n\")\n",
    "    print((text_vectorizer([_])))\n",
    "    "
   ]
  },
  {
   "cell_type": "code",
   "execution_count": 33,
   "id": "f6377f1a",
   "metadata": {},
   "outputs": [
    {
     "name": "stdout",
     "output_type": "stream",
     "text": [
      "Text :  FUCK NUCLEAR WEAPON\n",
      "\n",
      "tf.Tensor([[349 105 263   0   0   0   0   0   0   0   0   0   0   0   0]], shape=(1, 15), dtype=int64)\n"
     ]
    }
   ],
   "source": [
    "show_rand_data(train_data, text_vectorizer)"
   ]
  },
  {
   "cell_type": "code",
   "execution_count": 34,
   "id": "5020daf7",
   "metadata": {},
   "outputs": [],
   "source": [
    "wordlist = [_ for _ in text_vectorizer.get_vocabulary()]"
   ]
  },
  {
   "cell_type": "code",
   "execution_count": 35,
   "id": "10116d9a",
   "metadata": {},
   "outputs": [
    {
     "data": {
      "text/plain": [
       "(['', '[UNK]', 'the', 'a', 'in', 'to', 'of', 'and', 'i', 'is'],\n",
       " ['httptcoe9d9lk5fdw',\n",
       "  'httptcoe981dgskab',\n",
       "  'httptcoe90j3vjolc',\n",
       "  'httptcoe84ifmcczn',\n",
       "  'httptcoe7ojhpdfg2',\n",
       "  'httptcoe7fn5g5ruu',\n",
       "  'httptcoe65v80fcus',\n",
       "  'httptcoe61x9y65qd',\n",
       "  'httptcoe5cns6ufpa',\n",
       "  'httptcoe4ydbm4dx6'])"
      ]
     },
     "execution_count": 35,
     "metadata": {},
     "output_type": "execute_result"
    }
   ],
   "source": [
    "wordlist[:10], wordlist[-10:]"
   ]
  },
  {
   "cell_type": "code",
   "execution_count": 36,
   "id": "a0385f9f",
   "metadata": {},
   "outputs": [
    {
     "data": {
      "text/plain": [
       "15000"
      ]
     },
     "execution_count": 36,
     "metadata": {},
     "output_type": "execute_result"
    }
   ],
   "source": [
    "len(wordlist)"
   ]
  },
  {
   "cell_type": "markdown",
   "id": "0ff4928b",
   "metadata": {},
   "source": [
    "## Embedding Layer"
   ]
  },
  {
   "cell_type": "code",
   "execution_count": 37,
   "id": "69fb512c",
   "metadata": {},
   "outputs": [],
   "source": [
    "## Embedding is just a matrix which values can be updated during learning.\n",
    "# In case of Vectorization, the values are static, we can't update the values while learning"
   ]
  },
  {
   "cell_type": "markdown",
   "id": "257e81e5",
   "metadata": {},
   "source": [
    "` Embedding Layer ` => True positive int(index) into dense vector\n",
    "\n",
    "  -  `input_dim` : `len(text_vectorizer.get_vocabulary())`\n",
    "  -  `output_dim` : length of output dimension.\n",
    "  -  `embedding_initializer` : `uniform` - randomly initializes the vector with uniform values\n",
    "  -   `input_length` : avg of sum of len of all sentences\n",
    "  "
   ]
  },
  {
   "cell_type": "code",
   "execution_count": 39,
   "id": "f6ebbdfc",
   "metadata": {},
   "outputs": [],
   "source": [
    "from tensorflow.keras import layers\n",
    "tf.random.set_seed(42)"
   ]
  },
  {
   "cell_type": "code",
   "execution_count": 41,
   "id": "050708c1",
   "metadata": {},
   "outputs": [],
   "source": [
    "embedding = layers.Embedding(input_dim=len(text_vectorizer.get_vocabulary()),\n",
    "                            output_dim= 512,\n",
    "                            embeddings_initializer='uniform',\n",
    "                            input_length=(max_length))"
   ]
  },
  {
   "cell_type": "code",
   "execution_count": 44,
   "id": "1551f250",
   "metadata": {},
   "outputs": [],
   "source": [
    "embedding.build(input_shape=len(text_vectorizer.get_vocabulary()))"
   ]
  },
  {
   "cell_type": "code",
   "execution_count": 49,
   "id": "2e8eb936",
   "metadata": {},
   "outputs": [
    {
     "data": {
      "text/plain": [
       "<tf.Tensor: shape=(512,), dtype=float32, numpy=\n",
       "array([ 0.02777939,  0.02385018, -0.00165467,  0.03224889,  0.03659432,\n",
       "        0.02667179,  0.03552976, -0.02964037,  0.03442205, -0.02515832,\n",
       "       -0.04503341, -0.04819641,  0.02669868, -0.01960029,  0.01672551,\n",
       "        0.00703441, -0.04624754, -0.03160368,  0.02162139, -0.04893842,\n",
       "       -0.0188435 , -0.023596  , -0.00353865,  0.02285222,  0.01946032,\n",
       "        0.01079036, -0.00651414,  0.00342495, -0.00366775,  0.01380977,\n",
       "       -0.02438656,  0.04484666,  0.04442828,  0.02644761,  0.00738253,\n",
       "        0.00974649,  0.02655369, -0.00908961,  0.01964958,  0.01546154,\n",
       "       -0.02376026, -0.00670308,  0.01863298, -0.02591026, -0.00557055,\n",
       "       -0.02585998, -0.03005194,  0.00858253,  0.0426391 , -0.0005725 ,\n",
       "       -0.03058821,  0.02058642, -0.04135842,  0.00729876, -0.03823806,\n",
       "        0.00614469, -0.04969935,  0.04094893, -0.04762037, -0.01233845,\n",
       "       -0.03729663,  0.026604  ,  0.00029444,  0.02693025,  0.04498687,\n",
       "        0.04266305,  0.03129413, -0.03051916,  0.02648444,  0.03369509,\n",
       "        0.04345206, -0.02826718, -0.00734121, -0.00359639, -0.03927835,\n",
       "        0.00414877,  0.03414038, -0.00729112, -0.02735249,  0.03467524,\n",
       "       -0.01006531,  0.016552  , -0.01665883,  0.02054888, -0.02730074,\n",
       "       -0.02765982,  0.01289213,  0.01935527, -0.04112745, -0.02228719,\n",
       "       -0.00628405, -0.0152603 , -0.00972309,  0.03277785,  0.01308369,\n",
       "        0.04701954, -0.01728027, -0.03903307,  0.04810127, -0.02123941,\n",
       "       -0.02300466,  0.03545238, -0.02511903,  0.04988563,  0.04070343,\n",
       "        0.04392718,  0.00101918,  0.01428432, -0.01830462,  0.03308726,\n",
       "       -0.01753921, -0.00357696, -0.02445453,  0.03133747, -0.02353158,\n",
       "       -0.03498675, -0.02949418,  0.01329602,  0.01711715, -0.02204313,\n",
       "       -0.02185314, -0.02884164,  0.02150628, -0.00958322, -0.02545899,\n",
       "       -0.00641801,  0.04414563,  0.00357831,  0.04137851,  0.013591  ,\n",
       "       -0.04374459, -0.00477507,  0.02783433,  0.02944982, -0.00019027,\n",
       "       -0.00771563, -0.00089177, -0.02366979, -0.02335643,  0.04862971,\n",
       "        0.02484676,  0.02851455, -0.0445969 , -0.00951378,  0.03041971,\n",
       "       -0.01195108,  0.00791657,  0.00017886,  0.02950401,  0.01116241,\n",
       "        0.04794042, -0.0094417 ,  0.02243641, -0.01296145, -0.02187547,\n",
       "       -0.04798843,  0.01171935, -0.0133072 , -0.01900232, -0.01191418,\n",
       "       -0.03576022, -0.01539422, -0.01966666,  0.01581082, -0.0348066 ,\n",
       "       -0.02789502,  0.03307959,  0.04920502,  0.04303172, -0.00613649,\n",
       "       -0.04770171,  0.01256469, -0.02648466,  0.01795055,  0.01242922,\n",
       "        0.02793692, -0.01161097, -0.00950781,  0.02358517,  0.01239084,\n",
       "        0.00580945,  0.04640171,  0.03509065,  0.02845183,  0.00841862,\n",
       "       -0.01354118,  0.03926576, -0.0127799 , -0.02216898, -0.01645739,\n",
       "       -0.04981462, -0.04093849, -0.03614956,  0.03440147,  0.00288764,\n",
       "       -0.01623731, -0.0186808 ,  0.00619619, -0.01997568,  0.03954965,\n",
       "        0.04927789, -0.04276028, -0.02276472,  0.04465367,  0.0036909 ,\n",
       "       -0.01378455,  0.00379168,  0.00213051, -0.01423241, -0.0430035 ,\n",
       "       -0.03250549, -0.02542682, -0.03366584,  0.03037733, -0.0155628 ,\n",
       "       -0.04045064, -0.03350028,  0.005526  ,  0.00938673,  0.04583785,\n",
       "        0.04640574,  0.01821585, -0.0446139 , -0.017749  , -0.0096236 ,\n",
       "        0.00920207,  0.03575522,  0.04858154, -0.04829897,  0.03315738,\n",
       "       -0.01824865, -0.01436279,  0.00865968,  0.02463962,  0.03375277,\n",
       "        0.03199902, -0.04126179, -0.03414058, -0.03275003,  0.04563   ,\n",
       "        0.00094975, -0.03453631,  0.03128817, -0.00890226,  0.00061376,\n",
       "        0.04767765, -0.03569219,  0.02275136, -0.02803289,  0.02766008,\n",
       "        0.02805264, -0.00758638,  0.03036413,  0.03333798, -0.01916932,\n",
       "        0.00957219,  0.03885693,  0.01593683, -0.01842675,  0.01039344,\n",
       "       -0.0043956 ,  0.0443851 , -0.04422251,  0.0070622 ,  0.02691678,\n",
       "       -0.03356142,  0.00427095, -0.04692419,  0.02258033,  0.01203253,\n",
       "       -0.02049444,  0.03657566, -0.03406261, -0.01780791, -0.02253022,\n",
       "       -0.02957662,  0.02486259, -0.02246646, -0.01124576,  0.01519877,\n",
       "       -0.03238318, -0.02886399,  0.02209321,  0.02522726,  0.00264768,\n",
       "        0.03447768,  0.03876856, -0.01293362,  0.03989368,  0.04462708,\n",
       "        0.03832427,  0.01070895,  0.02198977,  0.02320179, -0.00193515,\n",
       "       -0.02751613,  0.0282014 ,  0.03667667, -0.0037853 , -0.03725566,\n",
       "       -0.0208165 , -0.04312604, -0.03826494,  0.00831576,  0.02318389,\n",
       "       -0.00819893,  0.00442834,  0.04509484,  0.01204668,  0.0061298 ,\n",
       "       -0.02489468, -0.00876099,  0.0213804 , -0.03984768,  0.00117586,\n",
       "        0.00194564,  0.0252603 ,  0.04651314, -0.04979887, -0.0088014 ,\n",
       "        0.01740007,  0.02296419, -0.04981112, -0.01598027, -0.00689479,\n",
       "        0.00998033, -0.02798897,  0.00730813,  0.04782439, -0.03632722,\n",
       "       -0.02638878,  0.01497402, -0.02554201,  0.00364476,  0.04856763,\n",
       "        0.0207083 , -0.02044076, -0.03436317,  0.0206475 ,  0.0392203 ,\n",
       "        0.00527865, -0.02418406, -0.02718439,  0.03659787,  0.01043767,\n",
       "       -0.0378405 ,  0.03774656, -0.0290648 , -0.02290031, -0.02799329,\n",
       "       -0.03543973, -0.0040235 ,  0.01312481,  0.02755991,  0.01491097,\n",
       "        0.02546008, -0.0371852 ,  0.02785721, -0.03991431, -0.046319  ,\n",
       "        0.0072948 , -0.04114668, -0.00507797,  0.00510145,  0.00111418,\n",
       "       -0.01458331,  0.02850957, -0.00067167,  0.02375057, -0.00757523,\n",
       "        0.00767969, -0.01584947,  0.03175188,  0.00712955, -0.04320027,\n",
       "        0.03740131, -0.01939745, -0.00815122,  0.00156593,  0.02586268,\n",
       "       -0.01008017,  0.03420252, -0.04839301,  0.02026146,  0.03101354,\n",
       "        0.02972624,  0.04515011, -0.00868811, -0.03165616, -0.04672715,\n",
       "       -0.03582557, -0.03986175, -0.02780832,  0.02774724, -0.03723383,\n",
       "        0.03856336,  0.01985481, -0.01786103, -0.04870726, -0.00964116,\n",
       "        0.04391822, -0.04763771, -0.02123184,  0.01064029,  0.0290537 ,\n",
       "        0.01159512,  0.03654139, -0.03375749, -0.01401008,  0.04236371,\n",
       "       -0.01869692, -0.01054779,  0.00304403, -0.01523069,  0.00248063,\n",
       "       -0.02719457, -0.02427623,  0.01806519, -0.00326494,  0.02086318,\n",
       "        0.03742126,  0.02405507,  0.02740983,  0.02906695,  0.01917202,\n",
       "        0.02787639, -0.00701381, -0.00570853, -0.00293057,  0.00760739,\n",
       "        0.00320937,  0.04169143, -0.01222987,  0.03121576,  0.03181472,\n",
       "       -0.02370827, -0.01889143, -0.00269655,  0.02724561, -0.00911118,\n",
       "        0.02674014, -0.01017836,  0.00372095, -0.02691374, -0.03216841,\n",
       "       -0.03528704, -0.00302679,  0.02970308,  0.00472671, -0.02467752,\n",
       "        0.02366925, -0.01083748, -0.00032215, -0.01668987, -0.04435581,\n",
       "       -0.03302269,  0.02432321, -0.03148066, -0.01960166, -0.03862182,\n",
       "        0.02512499, -0.01639099, -0.00903583, -0.03688554,  0.00268729,\n",
       "       -0.01417766,  0.04212632,  0.00211761, -0.03049672,  0.01517532,\n",
       "        0.04386239,  0.04480338,  0.00822821,  0.0196903 , -0.00609763,\n",
       "        0.0013498 ,  0.0140742 ,  0.0388652 , -0.01844253, -0.00979941,\n",
       "       -0.04804055,  0.03738329,  0.01689896, -0.00912775,  0.01008172,\n",
       "       -0.01899413,  0.00634414, -0.00770359, -0.01987991,  0.0373606 ,\n",
       "        0.00612943, -0.00412025, -0.04047707, -0.03295915, -0.01476858,\n",
       "       -0.03951852, -0.04584997, -0.0040946 ,  0.00265031,  0.04010187,\n",
       "        0.0163235 , -0.00677487,  0.02709426,  0.01926121, -0.00953553,\n",
       "        0.00399176, -0.01809511,  0.01630595, -0.01123042, -0.00994907,\n",
       "       -0.01159547,  0.04206498], dtype=float32)>"
      ]
     },
     "execution_count": 49,
     "metadata": {},
     "output_type": "execute_result"
    }
   ],
   "source": [
    "embedding.embeddings[0]"
   ]
  },
  {
   "cell_type": "code",
   "execution_count": 50,
   "id": "3672b712",
   "metadata": {},
   "outputs": [],
   "source": [
    "from abc import ABC"
   ]
  },
  {
   "cell_type": "code",
   "execution_count": 51,
   "id": "a4ba61ee",
   "metadata": {},
   "outputs": [],
   "source": [
    "class RandomData(ABC):\n",
    "    def show_rand_data(self,text_vectorizer=None, embedding=None):\n",
    "        self.text_vectorizer=text_vectorizer\n",
    "        self.embedding= embedding"
   ]
  },
  {
   "cell_type": "code",
   "execution_count": 99,
   "id": "2af7976c",
   "metadata": {},
   "outputs": [],
   "source": [
    "class ShowRandomData(RandomData):\n",
    "    def show_random_data(self, text_vectorizer, embedding,data):\n",
    "        super().show_rand_data(text_vectorizer, embedding)\n",
    "        self.train_data = data\n",
    "        no = random.randint(0, len(self.train_data) - 1)\n",
    "        for _ in range(1):\n",
    "            print(self.train_data[no])\n",
    "            print(self.embedding(self.text_vectorizer([self.train_data[no]])))\n",
    "            print(\"\")\n",
    "    "
   ]
  },
  {
   "cell_type": "code",
   "execution_count": 100,
   "id": "1d05223a",
   "metadata": {},
   "outputs": [],
   "source": [
    "s = ShowRandomData()"
   ]
  },
  {
   "cell_type": "code",
   "execution_count": 101,
   "id": "1dc27a3a",
   "metadata": {},
   "outputs": [
    {
     "name": "stdout",
     "output_type": "stream",
     "text": [
      "i'm really sad about red 7 closing :( yuppies n tourists ruin everything\n",
      "tf.Tensor(\n",
      "[[[-0.03510009 -0.02071199  0.0074138  ...  0.04077074 -0.03791188\n",
      "   -0.01185044]\n",
      "  [-0.04379587  0.03569153 -0.01247884 ...  0.04978469  0.00342049\n",
      "   -0.02145971]\n",
      "  [ 0.01874587  0.0232917  -0.03614681 ...  0.02946813 -0.0225476\n",
      "    0.01918692]\n",
      "  ...\n",
      "  [ 0.02777939  0.02385018 -0.00165467 ... -0.00994907 -0.01159547\n",
      "    0.04206498]\n",
      "  [ 0.02777939  0.02385018 -0.00165467 ... -0.00994907 -0.01159547\n",
      "    0.04206498]\n",
      "  [ 0.02777939  0.02385018 -0.00165467 ... -0.00994907 -0.01159547\n",
      "    0.04206498]]], shape=(1, 15, 512), dtype=float32)\n",
      "\n"
     ]
    }
   ],
   "source": [
    "s.show_random_data(text_vectorizer=text_vectorizer, embedding=embedding, data=train_data)"
   ]
  },
  {
   "cell_type": "code",
   "execution_count": null,
   "id": "ac8a4cc3",
   "metadata": {},
   "outputs": [],
   "source": []
  },
  {
   "cell_type": "code",
   "execution_count": null,
   "id": "d78451f8",
   "metadata": {},
   "outputs": [],
   "source": []
  },
  {
   "cell_type": "code",
   "execution_count": null,
   "id": "9b403574",
   "metadata": {},
   "outputs": [],
   "source": []
  }
 ],
 "metadata": {
  "kernelspec": {
   "display_name": "Python 3 (ipykernel)",
   "language": "python",
   "name": "python3"
  },
  "language_info": {
   "codemirror_mode": {
    "name": "ipython",
    "version": 3
   },
   "file_extension": ".py",
   "mimetype": "text/x-python",
   "name": "python",
   "nbconvert_exporter": "python",
   "pygments_lexer": "ipython3",
   "version": "3.11.0"
  }
 },
 "nbformat": 4,
 "nbformat_minor": 5
}
